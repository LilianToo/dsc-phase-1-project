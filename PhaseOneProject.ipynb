{
 "cells": [
  {
   "cell_type": "code",
   "execution_count": 1,
   "metadata": {},
   "outputs": [],
   "source": [
    "#import pandas libraries\n",
    "import pandas as pd\n",
    "import numpy as np\n",
    "import seaborn as sns\n",
    "import matplotlib.pyplot as plt\n",
    "\n",
    "\n"
   ]
  },
  {
   "cell_type": "markdown",
   "metadata": {},
   "source": [
    "Reading csv file into dataframe and displaying the first 5 rows"
   ]
  },
  {
   "cell_type": "code",
   "execution_count": 2,
   "metadata": {},
   "outputs": [
    {
     "name": "stderr",
     "output_type": "stream",
     "text": [
      "c:\\Users\\grecl\\anaconda3\\envs\\learn-env\\lib\\site-packages\\IPython\\core\\interactiveshell.py:3145: DtypeWarning: Columns (6,7,28) have mixed types.Specify dtype option on import or set low_memory=False.\n",
      "  has_raised = await self.run_ast_nodes(code_ast.body, cell_name,\n"
     ]
    },
    {
     "data": {
      "application/vnd.microsoft.datawrangler.viewer.v0+json": {
       "columns": [
        {
         "name": "index",
         "rawType": "int64",
         "type": "integer"
        },
        {
         "name": "Event.Id",
         "rawType": "object",
         "type": "string"
        },
        {
         "name": "Investigation.Type",
         "rawType": "object",
         "type": "string"
        },
        {
         "name": "Accident.Number",
         "rawType": "object",
         "type": "string"
        },
        {
         "name": "Event.Date",
         "rawType": "object",
         "type": "string"
        },
        {
         "name": "Location",
         "rawType": "object",
         "type": "string"
        },
        {
         "name": "Country",
         "rawType": "object",
         "type": "string"
        },
        {
         "name": "Latitude",
         "rawType": "object",
         "type": "string"
        },
        {
         "name": "Longitude",
         "rawType": "object",
         "type": "string"
        },
        {
         "name": "Airport.Code",
         "rawType": "object",
         "type": "string"
        },
        {
         "name": "Airport.Name",
         "rawType": "object",
         "type": "string"
        },
        {
         "name": "Injury.Severity",
         "rawType": "object",
         "type": "string"
        },
        {
         "name": "Aircraft.damage",
         "rawType": "object",
         "type": "string"
        },
        {
         "name": "Aircraft.Category",
         "rawType": "object",
         "type": "string"
        },
        {
         "name": "Registration.Number",
         "rawType": "object",
         "type": "string"
        },
        {
         "name": "Make",
         "rawType": "object",
         "type": "string"
        },
        {
         "name": "Model",
         "rawType": "object",
         "type": "string"
        },
        {
         "name": "Amateur.Built",
         "rawType": "object",
         "type": "string"
        },
        {
         "name": "Number.of.Engines",
         "rawType": "float64",
         "type": "float"
        },
        {
         "name": "Engine.Type",
         "rawType": "object",
         "type": "string"
        },
        {
         "name": "FAR.Description",
         "rawType": "object",
         "type": "string"
        },
        {
         "name": "Schedule",
         "rawType": "object",
         "type": "string"
        },
        {
         "name": "Purpose.of.flight",
         "rawType": "object",
         "type": "string"
        },
        {
         "name": "Air.carrier",
         "rawType": "object",
         "type": "string"
        },
        {
         "name": "Total.Fatal.Injuries",
         "rawType": "float64",
         "type": "float"
        },
        {
         "name": "Total.Serious.Injuries",
         "rawType": "float64",
         "type": "float"
        },
        {
         "name": "Total.Minor.Injuries",
         "rawType": "float64",
         "type": "float"
        },
        {
         "name": "Total.Uninjured",
         "rawType": "float64",
         "type": "float"
        },
        {
         "name": "Weather.Condition",
         "rawType": "object",
         "type": "string"
        },
        {
         "name": "Broad.phase.of.flight",
         "rawType": "object",
         "type": "string"
        },
        {
         "name": "Report.Status",
         "rawType": "object",
         "type": "string"
        },
        {
         "name": "Publication.Date",
         "rawType": "object",
         "type": "string"
        }
       ],
       "ref": "c11d02f7-8199-4448-8555-959b4f5580a2",
       "rows": [
        [
         "0",
         "20001218X45444",
         "Accident",
         "SEA87LA080",
         "1948-10-24",
         "MOOSE CREEK, ID",
         "United States",
         null,
         null,
         null,
         null,
         "Fatal(2)",
         "Destroyed",
         null,
         "NC6404",
         "Stinson",
         "108-3",
         "No",
         "1.0",
         "Reciprocating",
         null,
         null,
         "Personal",
         null,
         "2.0",
         "0.0",
         "0.0",
         "0.0",
         "UNK",
         "Cruise",
         "Probable Cause",
         null
        ],
        [
         "1",
         "20001218X45447",
         "Accident",
         "LAX94LA336",
         "1962-07-19",
         "BRIDGEPORT, CA",
         "United States",
         null,
         null,
         null,
         null,
         "Fatal(4)",
         "Destroyed",
         null,
         "N5069P",
         "Piper",
         "PA24-180",
         "No",
         "1.0",
         "Reciprocating",
         null,
         null,
         "Personal",
         null,
         "4.0",
         "0.0",
         "0.0",
         "0.0",
         "UNK",
         "Unknown",
         "Probable Cause",
         "19-09-1996"
        ],
        [
         "2",
         "20061025X01555",
         "Accident",
         "NYC07LA005",
         "1974-08-30",
         "Saltville, VA",
         "United States",
         "36.922222999999995",
         "-81.878056",
         null,
         null,
         "Fatal(3)",
         "Destroyed",
         null,
         "N5142R",
         "Cessna",
         "172M",
         "No",
         "1.0",
         "Reciprocating",
         null,
         null,
         "Personal",
         null,
         "3.0",
         null,
         null,
         null,
         "IMC",
         "Cruise",
         "Probable Cause",
         "26-02-2007"
        ],
        [
         "3",
         "20001218X45448",
         "Accident",
         "LAX96LA321",
         "1977-06-19",
         "EUREKA, CA",
         "United States",
         null,
         null,
         null,
         null,
         "Fatal(2)",
         "Destroyed",
         null,
         "N1168J",
         "Rockwell",
         "112",
         "No",
         "1.0",
         "Reciprocating",
         null,
         null,
         "Personal",
         null,
         "2.0",
         "0.0",
         "0.0",
         "0.0",
         "IMC",
         "Cruise",
         "Probable Cause",
         "12-09-2000"
        ],
        [
         "4",
         "20041105X01764",
         "Accident",
         "CHI79FA064",
         "1979-08-02",
         "Canton, OH",
         "United States",
         null,
         null,
         null,
         null,
         "Fatal(1)",
         "Destroyed",
         null,
         "N15NY",
         "Cessna",
         "501",
         "No",
         null,
         null,
         null,
         null,
         "Personal",
         null,
         "1.0",
         "2.0",
         null,
         "0.0",
         "VMC",
         "Approach",
         "Probable Cause",
         "16-04-1980"
        ]
       ],
       "shape": {
        "columns": 31,
        "rows": 5
       }
      },
      "text/html": [
       "<div>\n",
       "<style scoped>\n",
       "    .dataframe tbody tr th:only-of-type {\n",
       "        vertical-align: middle;\n",
       "    }\n",
       "\n",
       "    .dataframe tbody tr th {\n",
       "        vertical-align: top;\n",
       "    }\n",
       "\n",
       "    .dataframe thead th {\n",
       "        text-align: right;\n",
       "    }\n",
       "</style>\n",
       "<table border=\"1\" class=\"dataframe\">\n",
       "  <thead>\n",
       "    <tr style=\"text-align: right;\">\n",
       "      <th></th>\n",
       "      <th>Event.Id</th>\n",
       "      <th>Investigation.Type</th>\n",
       "      <th>Accident.Number</th>\n",
       "      <th>Event.Date</th>\n",
       "      <th>Location</th>\n",
       "      <th>Country</th>\n",
       "      <th>Latitude</th>\n",
       "      <th>Longitude</th>\n",
       "      <th>Airport.Code</th>\n",
       "      <th>Airport.Name</th>\n",
       "      <th>...</th>\n",
       "      <th>Purpose.of.flight</th>\n",
       "      <th>Air.carrier</th>\n",
       "      <th>Total.Fatal.Injuries</th>\n",
       "      <th>Total.Serious.Injuries</th>\n",
       "      <th>Total.Minor.Injuries</th>\n",
       "      <th>Total.Uninjured</th>\n",
       "      <th>Weather.Condition</th>\n",
       "      <th>Broad.phase.of.flight</th>\n",
       "      <th>Report.Status</th>\n",
       "      <th>Publication.Date</th>\n",
       "    </tr>\n",
       "  </thead>\n",
       "  <tbody>\n",
       "    <tr>\n",
       "      <th>0</th>\n",
       "      <td>20001218X45444</td>\n",
       "      <td>Accident</td>\n",
       "      <td>SEA87LA080</td>\n",
       "      <td>1948-10-24</td>\n",
       "      <td>MOOSE CREEK, ID</td>\n",
       "      <td>United States</td>\n",
       "      <td>NaN</td>\n",
       "      <td>NaN</td>\n",
       "      <td>NaN</td>\n",
       "      <td>NaN</td>\n",
       "      <td>...</td>\n",
       "      <td>Personal</td>\n",
       "      <td>NaN</td>\n",
       "      <td>2.0</td>\n",
       "      <td>0.0</td>\n",
       "      <td>0.0</td>\n",
       "      <td>0.0</td>\n",
       "      <td>UNK</td>\n",
       "      <td>Cruise</td>\n",
       "      <td>Probable Cause</td>\n",
       "      <td>NaN</td>\n",
       "    </tr>\n",
       "    <tr>\n",
       "      <th>1</th>\n",
       "      <td>20001218X45447</td>\n",
       "      <td>Accident</td>\n",
       "      <td>LAX94LA336</td>\n",
       "      <td>1962-07-19</td>\n",
       "      <td>BRIDGEPORT, CA</td>\n",
       "      <td>United States</td>\n",
       "      <td>NaN</td>\n",
       "      <td>NaN</td>\n",
       "      <td>NaN</td>\n",
       "      <td>NaN</td>\n",
       "      <td>...</td>\n",
       "      <td>Personal</td>\n",
       "      <td>NaN</td>\n",
       "      <td>4.0</td>\n",
       "      <td>0.0</td>\n",
       "      <td>0.0</td>\n",
       "      <td>0.0</td>\n",
       "      <td>UNK</td>\n",
       "      <td>Unknown</td>\n",
       "      <td>Probable Cause</td>\n",
       "      <td>19-09-1996</td>\n",
       "    </tr>\n",
       "    <tr>\n",
       "      <th>2</th>\n",
       "      <td>20061025X01555</td>\n",
       "      <td>Accident</td>\n",
       "      <td>NYC07LA005</td>\n",
       "      <td>1974-08-30</td>\n",
       "      <td>Saltville, VA</td>\n",
       "      <td>United States</td>\n",
       "      <td>36.9222</td>\n",
       "      <td>-81.8781</td>\n",
       "      <td>NaN</td>\n",
       "      <td>NaN</td>\n",
       "      <td>...</td>\n",
       "      <td>Personal</td>\n",
       "      <td>NaN</td>\n",
       "      <td>3.0</td>\n",
       "      <td>NaN</td>\n",
       "      <td>NaN</td>\n",
       "      <td>NaN</td>\n",
       "      <td>IMC</td>\n",
       "      <td>Cruise</td>\n",
       "      <td>Probable Cause</td>\n",
       "      <td>26-02-2007</td>\n",
       "    </tr>\n",
       "    <tr>\n",
       "      <th>3</th>\n",
       "      <td>20001218X45448</td>\n",
       "      <td>Accident</td>\n",
       "      <td>LAX96LA321</td>\n",
       "      <td>1977-06-19</td>\n",
       "      <td>EUREKA, CA</td>\n",
       "      <td>United States</td>\n",
       "      <td>NaN</td>\n",
       "      <td>NaN</td>\n",
       "      <td>NaN</td>\n",
       "      <td>NaN</td>\n",
       "      <td>...</td>\n",
       "      <td>Personal</td>\n",
       "      <td>NaN</td>\n",
       "      <td>2.0</td>\n",
       "      <td>0.0</td>\n",
       "      <td>0.0</td>\n",
       "      <td>0.0</td>\n",
       "      <td>IMC</td>\n",
       "      <td>Cruise</td>\n",
       "      <td>Probable Cause</td>\n",
       "      <td>12-09-2000</td>\n",
       "    </tr>\n",
       "    <tr>\n",
       "      <th>4</th>\n",
       "      <td>20041105X01764</td>\n",
       "      <td>Accident</td>\n",
       "      <td>CHI79FA064</td>\n",
       "      <td>1979-08-02</td>\n",
       "      <td>Canton, OH</td>\n",
       "      <td>United States</td>\n",
       "      <td>NaN</td>\n",
       "      <td>NaN</td>\n",
       "      <td>NaN</td>\n",
       "      <td>NaN</td>\n",
       "      <td>...</td>\n",
       "      <td>Personal</td>\n",
       "      <td>NaN</td>\n",
       "      <td>1.0</td>\n",
       "      <td>2.0</td>\n",
       "      <td>NaN</td>\n",
       "      <td>0.0</td>\n",
       "      <td>VMC</td>\n",
       "      <td>Approach</td>\n",
       "      <td>Probable Cause</td>\n",
       "      <td>16-04-1980</td>\n",
       "    </tr>\n",
       "  </tbody>\n",
       "</table>\n",
       "<p>5 rows × 31 columns</p>\n",
       "</div>"
      ],
      "text/plain": [
       "         Event.Id Investigation.Type Accident.Number  Event.Date  \\\n",
       "0  20001218X45444           Accident      SEA87LA080  1948-10-24   \n",
       "1  20001218X45447           Accident      LAX94LA336  1962-07-19   \n",
       "2  20061025X01555           Accident      NYC07LA005  1974-08-30   \n",
       "3  20001218X45448           Accident      LAX96LA321  1977-06-19   \n",
       "4  20041105X01764           Accident      CHI79FA064  1979-08-02   \n",
       "\n",
       "          Location        Country Latitude Longitude Airport.Code  \\\n",
       "0  MOOSE CREEK, ID  United States      NaN       NaN          NaN   \n",
       "1   BRIDGEPORT, CA  United States      NaN       NaN          NaN   \n",
       "2    Saltville, VA  United States  36.9222  -81.8781          NaN   \n",
       "3       EUREKA, CA  United States      NaN       NaN          NaN   \n",
       "4       Canton, OH  United States      NaN       NaN          NaN   \n",
       "\n",
       "  Airport.Name  ... Purpose.of.flight Air.carrier Total.Fatal.Injuries  \\\n",
       "0          NaN  ...          Personal         NaN                  2.0   \n",
       "1          NaN  ...          Personal         NaN                  4.0   \n",
       "2          NaN  ...          Personal         NaN                  3.0   \n",
       "3          NaN  ...          Personal         NaN                  2.0   \n",
       "4          NaN  ...          Personal         NaN                  1.0   \n",
       "\n",
       "  Total.Serious.Injuries Total.Minor.Injuries Total.Uninjured  \\\n",
       "0                    0.0                  0.0             0.0   \n",
       "1                    0.0                  0.0             0.0   \n",
       "2                    NaN                  NaN             NaN   \n",
       "3                    0.0                  0.0             0.0   \n",
       "4                    2.0                  NaN             0.0   \n",
       "\n",
       "  Weather.Condition  Broad.phase.of.flight   Report.Status Publication.Date  \n",
       "0               UNK                 Cruise  Probable Cause              NaN  \n",
       "1               UNK                Unknown  Probable Cause       19-09-1996  \n",
       "2               IMC                 Cruise  Probable Cause       26-02-2007  \n",
       "3               IMC                 Cruise  Probable Cause       12-09-2000  \n",
       "4               VMC               Approach  Probable Cause       16-04-1980  \n",
       "\n",
       "[5 rows x 31 columns]"
      ]
     },
     "execution_count": 2,
     "metadata": {},
     "output_type": "execute_result"
    }
   ],
   "source": [
    "df= pd.read_csv('Aviation_Data.csv')\n",
    "df.head()"
   ]
  },
  {
   "cell_type": "markdown",
   "metadata": {},
   "source": [
    "To get the last five rows in the dataframe"
   ]
  },
  {
   "cell_type": "code",
   "execution_count": 3,
   "metadata": {},
   "outputs": [
    {
     "data": {
      "application/vnd.microsoft.datawrangler.viewer.v0+json": {
       "columns": [
        {
         "name": "index",
         "rawType": "int64",
         "type": "integer"
        },
        {
         "name": "Event.Id",
         "rawType": "object",
         "type": "string"
        },
        {
         "name": "Investigation.Type",
         "rawType": "object",
         "type": "string"
        },
        {
         "name": "Accident.Number",
         "rawType": "object",
         "type": "string"
        },
        {
         "name": "Event.Date",
         "rawType": "object",
         "type": "string"
        },
        {
         "name": "Location",
         "rawType": "object",
         "type": "string"
        },
        {
         "name": "Country",
         "rawType": "object",
         "type": "string"
        },
        {
         "name": "Latitude",
         "rawType": "object",
         "type": "string"
        },
        {
         "name": "Longitude",
         "rawType": "object",
         "type": "string"
        },
        {
         "name": "Airport.Code",
         "rawType": "object",
         "type": "string"
        },
        {
         "name": "Airport.Name",
         "rawType": "object",
         "type": "string"
        },
        {
         "name": "Injury.Severity",
         "rawType": "object",
         "type": "string"
        },
        {
         "name": "Aircraft.damage",
         "rawType": "object",
         "type": "string"
        },
        {
         "name": "Aircraft.Category",
         "rawType": "object",
         "type": "string"
        },
        {
         "name": "Registration.Number",
         "rawType": "object",
         "type": "string"
        },
        {
         "name": "Make",
         "rawType": "object",
         "type": "string"
        },
        {
         "name": "Model",
         "rawType": "object",
         "type": "string"
        },
        {
         "name": "Amateur.Built",
         "rawType": "object",
         "type": "string"
        },
        {
         "name": "Number.of.Engines",
         "rawType": "float64",
         "type": "float"
        },
        {
         "name": "Engine.Type",
         "rawType": "object",
         "type": "string"
        },
        {
         "name": "FAR.Description",
         "rawType": "object",
         "type": "string"
        },
        {
         "name": "Schedule",
         "rawType": "object",
         "type": "string"
        },
        {
         "name": "Purpose.of.flight",
         "rawType": "object",
         "type": "string"
        },
        {
         "name": "Air.carrier",
         "rawType": "object",
         "type": "string"
        },
        {
         "name": "Total.Fatal.Injuries",
         "rawType": "float64",
         "type": "float"
        },
        {
         "name": "Total.Serious.Injuries",
         "rawType": "float64",
         "type": "float"
        },
        {
         "name": "Total.Minor.Injuries",
         "rawType": "float64",
         "type": "float"
        },
        {
         "name": "Total.Uninjured",
         "rawType": "float64",
         "type": "float"
        },
        {
         "name": "Weather.Condition",
         "rawType": "object",
         "type": "string"
        },
        {
         "name": "Broad.phase.of.flight",
         "rawType": "object",
         "type": "string"
        },
        {
         "name": "Report.Status",
         "rawType": "object",
         "type": "string"
        },
        {
         "name": "Publication.Date",
         "rawType": "object",
         "type": "string"
        }
       ],
       "ref": "aa59a377-6c6f-4f3b-9fdb-2628b564e618",
       "rows": [
        [
         "90343",
         "20221227106491",
         "Accident",
         "ERA23LA093",
         "2022-12-26",
         "Annapolis, MD",
         "United States",
         null,
         null,
         null,
         null,
         "Minor",
         null,
         null,
         "N1867H",
         "PIPER",
         "PA-28-151",
         "No",
         null,
         null,
         "091",
         null,
         "Personal",
         null,
         "0.0",
         "1.0",
         "0.0",
         "0.0",
         null,
         null,
         null,
         "29-12-2022"
        ],
        [
         "90344",
         "20221227106494",
         "Accident",
         "ERA23LA095",
         "2022-12-26",
         "Hampton, NH",
         "United States",
         null,
         null,
         null,
         null,
         null,
         null,
         null,
         "N2895Z",
         "BELLANCA",
         "7ECA",
         "No",
         null,
         null,
         null,
         null,
         null,
         null,
         "0.0",
         "0.0",
         "0.0",
         "0.0",
         null,
         null,
         null,
         null
        ],
        [
         "90345",
         "20221227106497",
         "Accident",
         "WPR23LA075",
         "2022-12-26",
         "Payson, AZ",
         "United States",
         "341525N",
         "1112021W",
         "PAN",
         "PAYSON",
         "Non-Fatal",
         "Substantial",
         "Airplane",
         "N749PJ",
         "AMERICAN CHAMPION AIRCRAFT",
         "8GCBC",
         "No",
         "1.0",
         null,
         "091",
         null,
         "Personal",
         null,
         "0.0",
         "0.0",
         "0.0",
         "1.0",
         "VMC",
         null,
         null,
         "27-12-2022"
        ],
        [
         "90346",
         "20221227106498",
         "Accident",
         "WPR23LA076",
         "2022-12-26",
         "Morgan, UT",
         "United States",
         null,
         null,
         null,
         null,
         null,
         null,
         null,
         "N210CU",
         "CESSNA",
         "210N",
         "No",
         null,
         null,
         "091",
         null,
         "Personal",
         "MC CESSNA 210N LLC",
         "0.0",
         "0.0",
         "0.0",
         "0.0",
         null,
         null,
         null,
         null
        ],
        [
         "90347",
         "20221230106513",
         "Accident",
         "ERA23LA097",
         "2022-12-29",
         "Athens, GA",
         "United States",
         null,
         null,
         null,
         null,
         "Minor",
         null,
         null,
         "N9026P",
         "PIPER",
         "PA-24-260",
         "No",
         null,
         null,
         "091",
         null,
         "Personal",
         null,
         "0.0",
         "1.0",
         "0.0",
         "1.0",
         null,
         null,
         null,
         "30-12-2022"
        ]
       ],
       "shape": {
        "columns": 31,
        "rows": 5
       }
      },
      "text/html": [
       "<div>\n",
       "<style scoped>\n",
       "    .dataframe tbody tr th:only-of-type {\n",
       "        vertical-align: middle;\n",
       "    }\n",
       "\n",
       "    .dataframe tbody tr th {\n",
       "        vertical-align: top;\n",
       "    }\n",
       "\n",
       "    .dataframe thead th {\n",
       "        text-align: right;\n",
       "    }\n",
       "</style>\n",
       "<table border=\"1\" class=\"dataframe\">\n",
       "  <thead>\n",
       "    <tr style=\"text-align: right;\">\n",
       "      <th></th>\n",
       "      <th>Event.Id</th>\n",
       "      <th>Investigation.Type</th>\n",
       "      <th>Accident.Number</th>\n",
       "      <th>Event.Date</th>\n",
       "      <th>Location</th>\n",
       "      <th>Country</th>\n",
       "      <th>Latitude</th>\n",
       "      <th>Longitude</th>\n",
       "      <th>Airport.Code</th>\n",
       "      <th>Airport.Name</th>\n",
       "      <th>...</th>\n",
       "      <th>Purpose.of.flight</th>\n",
       "      <th>Air.carrier</th>\n",
       "      <th>Total.Fatal.Injuries</th>\n",
       "      <th>Total.Serious.Injuries</th>\n",
       "      <th>Total.Minor.Injuries</th>\n",
       "      <th>Total.Uninjured</th>\n",
       "      <th>Weather.Condition</th>\n",
       "      <th>Broad.phase.of.flight</th>\n",
       "      <th>Report.Status</th>\n",
       "      <th>Publication.Date</th>\n",
       "    </tr>\n",
       "  </thead>\n",
       "  <tbody>\n",
       "    <tr>\n",
       "      <th>90343</th>\n",
       "      <td>20221227106491</td>\n",
       "      <td>Accident</td>\n",
       "      <td>ERA23LA093</td>\n",
       "      <td>2022-12-26</td>\n",
       "      <td>Annapolis, MD</td>\n",
       "      <td>United States</td>\n",
       "      <td>NaN</td>\n",
       "      <td>NaN</td>\n",
       "      <td>NaN</td>\n",
       "      <td>NaN</td>\n",
       "      <td>...</td>\n",
       "      <td>Personal</td>\n",
       "      <td>NaN</td>\n",
       "      <td>0.0</td>\n",
       "      <td>1.0</td>\n",
       "      <td>0.0</td>\n",
       "      <td>0.0</td>\n",
       "      <td>NaN</td>\n",
       "      <td>NaN</td>\n",
       "      <td>NaN</td>\n",
       "      <td>29-12-2022</td>\n",
       "    </tr>\n",
       "    <tr>\n",
       "      <th>90344</th>\n",
       "      <td>20221227106494</td>\n",
       "      <td>Accident</td>\n",
       "      <td>ERA23LA095</td>\n",
       "      <td>2022-12-26</td>\n",
       "      <td>Hampton, NH</td>\n",
       "      <td>United States</td>\n",
       "      <td>NaN</td>\n",
       "      <td>NaN</td>\n",
       "      <td>NaN</td>\n",
       "      <td>NaN</td>\n",
       "      <td>...</td>\n",
       "      <td>NaN</td>\n",
       "      <td>NaN</td>\n",
       "      <td>0.0</td>\n",
       "      <td>0.0</td>\n",
       "      <td>0.0</td>\n",
       "      <td>0.0</td>\n",
       "      <td>NaN</td>\n",
       "      <td>NaN</td>\n",
       "      <td>NaN</td>\n",
       "      <td>NaN</td>\n",
       "    </tr>\n",
       "    <tr>\n",
       "      <th>90345</th>\n",
       "      <td>20221227106497</td>\n",
       "      <td>Accident</td>\n",
       "      <td>WPR23LA075</td>\n",
       "      <td>2022-12-26</td>\n",
       "      <td>Payson, AZ</td>\n",
       "      <td>United States</td>\n",
       "      <td>341525N</td>\n",
       "      <td>1112021W</td>\n",
       "      <td>PAN</td>\n",
       "      <td>PAYSON</td>\n",
       "      <td>...</td>\n",
       "      <td>Personal</td>\n",
       "      <td>NaN</td>\n",
       "      <td>0.0</td>\n",
       "      <td>0.0</td>\n",
       "      <td>0.0</td>\n",
       "      <td>1.0</td>\n",
       "      <td>VMC</td>\n",
       "      <td>NaN</td>\n",
       "      <td>NaN</td>\n",
       "      <td>27-12-2022</td>\n",
       "    </tr>\n",
       "    <tr>\n",
       "      <th>90346</th>\n",
       "      <td>20221227106498</td>\n",
       "      <td>Accident</td>\n",
       "      <td>WPR23LA076</td>\n",
       "      <td>2022-12-26</td>\n",
       "      <td>Morgan, UT</td>\n",
       "      <td>United States</td>\n",
       "      <td>NaN</td>\n",
       "      <td>NaN</td>\n",
       "      <td>NaN</td>\n",
       "      <td>NaN</td>\n",
       "      <td>...</td>\n",
       "      <td>Personal</td>\n",
       "      <td>MC CESSNA 210N LLC</td>\n",
       "      <td>0.0</td>\n",
       "      <td>0.0</td>\n",
       "      <td>0.0</td>\n",
       "      <td>0.0</td>\n",
       "      <td>NaN</td>\n",
       "      <td>NaN</td>\n",
       "      <td>NaN</td>\n",
       "      <td>NaN</td>\n",
       "    </tr>\n",
       "    <tr>\n",
       "      <th>90347</th>\n",
       "      <td>20221230106513</td>\n",
       "      <td>Accident</td>\n",
       "      <td>ERA23LA097</td>\n",
       "      <td>2022-12-29</td>\n",
       "      <td>Athens, GA</td>\n",
       "      <td>United States</td>\n",
       "      <td>NaN</td>\n",
       "      <td>NaN</td>\n",
       "      <td>NaN</td>\n",
       "      <td>NaN</td>\n",
       "      <td>...</td>\n",
       "      <td>Personal</td>\n",
       "      <td>NaN</td>\n",
       "      <td>0.0</td>\n",
       "      <td>1.0</td>\n",
       "      <td>0.0</td>\n",
       "      <td>1.0</td>\n",
       "      <td>NaN</td>\n",
       "      <td>NaN</td>\n",
       "      <td>NaN</td>\n",
       "      <td>30-12-2022</td>\n",
       "    </tr>\n",
       "  </tbody>\n",
       "</table>\n",
       "<p>5 rows × 31 columns</p>\n",
       "</div>"
      ],
      "text/plain": [
       "             Event.Id Investigation.Type Accident.Number  Event.Date  \\\n",
       "90343  20221227106491           Accident      ERA23LA093  2022-12-26   \n",
       "90344  20221227106494           Accident      ERA23LA095  2022-12-26   \n",
       "90345  20221227106497           Accident      WPR23LA075  2022-12-26   \n",
       "90346  20221227106498           Accident      WPR23LA076  2022-12-26   \n",
       "90347  20221230106513           Accident      ERA23LA097  2022-12-29   \n",
       "\n",
       "            Location        Country Latitude Longitude Airport.Code  \\\n",
       "90343  Annapolis, MD  United States      NaN       NaN          NaN   \n",
       "90344    Hampton, NH  United States      NaN       NaN          NaN   \n",
       "90345     Payson, AZ  United States  341525N  1112021W          PAN   \n",
       "90346     Morgan, UT  United States      NaN       NaN          NaN   \n",
       "90347     Athens, GA  United States      NaN       NaN          NaN   \n",
       "\n",
       "      Airport.Name  ... Purpose.of.flight         Air.carrier  \\\n",
       "90343          NaN  ...          Personal                 NaN   \n",
       "90344          NaN  ...               NaN                 NaN   \n",
       "90345       PAYSON  ...          Personal                 NaN   \n",
       "90346          NaN  ...          Personal  MC CESSNA 210N LLC   \n",
       "90347          NaN  ...          Personal                 NaN   \n",
       "\n",
       "      Total.Fatal.Injuries Total.Serious.Injuries Total.Minor.Injuries  \\\n",
       "90343                  0.0                    1.0                  0.0   \n",
       "90344                  0.0                    0.0                  0.0   \n",
       "90345                  0.0                    0.0                  0.0   \n",
       "90346                  0.0                    0.0                  0.0   \n",
       "90347                  0.0                    1.0                  0.0   \n",
       "\n",
       "      Total.Uninjured Weather.Condition  Broad.phase.of.flight Report.Status  \\\n",
       "90343             0.0               NaN                    NaN           NaN   \n",
       "90344             0.0               NaN                    NaN           NaN   \n",
       "90345             1.0               VMC                    NaN           NaN   \n",
       "90346             0.0               NaN                    NaN           NaN   \n",
       "90347             1.0               NaN                    NaN           NaN   \n",
       "\n",
       "      Publication.Date  \n",
       "90343       29-12-2022  \n",
       "90344              NaN  \n",
       "90345       27-12-2022  \n",
       "90346              NaN  \n",
       "90347       30-12-2022  \n",
       "\n",
       "[5 rows x 31 columns]"
      ]
     },
     "execution_count": 3,
     "metadata": {},
     "output_type": "execute_result"
    }
   ],
   "source": [
    "df.tail()"
   ]
  },
  {
   "cell_type": "markdown",
   "metadata": {},
   "source": [
    "Checking the shape of the dataframe"
   ]
  },
  {
   "cell_type": "code",
   "execution_count": 4,
   "metadata": {},
   "outputs": [
    {
     "data": {
      "text/plain": [
       "(90348, 31)"
      ]
     },
     "execution_count": 4,
     "metadata": {},
     "output_type": "execute_result"
    }
   ],
   "source": [
    "df.shape"
   ]
  },
  {
   "cell_type": "markdown",
   "metadata": {},
   "source": [
    "Checking the columns in the dataframe"
   ]
  },
  {
   "cell_type": "code",
   "execution_count": 5,
   "metadata": {},
   "outputs": [
    {
     "data": {
      "text/plain": [
       "Index(['Event.Id', 'Investigation.Type', 'Accident.Number', 'Event.Date',\n",
       "       'Location', 'Country', 'Latitude', 'Longitude', 'Airport.Code',\n",
       "       'Airport.Name', 'Injury.Severity', 'Aircraft.damage',\n",
       "       'Aircraft.Category', 'Registration.Number', 'Make', 'Model',\n",
       "       'Amateur.Built', 'Number.of.Engines', 'Engine.Type', 'FAR.Description',\n",
       "       'Schedule', 'Purpose.of.flight', 'Air.carrier', 'Total.Fatal.Injuries',\n",
       "       'Total.Serious.Injuries', 'Total.Minor.Injuries', 'Total.Uninjured',\n",
       "       'Weather.Condition', 'Broad.phase.of.flight', 'Report.Status',\n",
       "       'Publication.Date'],\n",
       "      dtype='object')"
      ]
     },
     "execution_count": 5,
     "metadata": {},
     "output_type": "execute_result"
    }
   ],
   "source": [
    "df.columns"
   ]
  },
  {
   "cell_type": "markdown",
   "metadata": {},
   "source": [
    "Removing the non important columns in this analysis"
   ]
  },
  {
   "cell_type": "code",
   "execution_count": 6,
   "metadata": {},
   "outputs": [],
   "source": [
    "df = df.drop(['Publication.Date','Latitude', 'Country', 'Location', 'Event.Date', 'Accident.Number',\n",
    "              'Report.Status', 'Airport.Code', 'Airport.Name', 'Registration.Number', \n",
    "              'Air.carrier', 'Amateur.Built', 'Longitude', 'FAR.Description', 'Schedule',\n",
    "              'Broad.phase.of.flight', 'Event.Id'],axis=1)"
   ]
  },
  {
   "cell_type": "markdown",
   "metadata": {},
   "source": [
    "Confirming the remaining relevant columns"
   ]
  },
  {
   "cell_type": "code",
   "execution_count": 7,
   "metadata": {},
   "outputs": [
    {
     "data": {
      "application/vnd.microsoft.datawrangler.viewer.v0+json": {
       "columns": [
        {
         "name": "index",
         "rawType": "int64",
         "type": "integer"
        },
        {
         "name": "Investigation.Type",
         "rawType": "object",
         "type": "string"
        },
        {
         "name": "Injury.Severity",
         "rawType": "object",
         "type": "string"
        },
        {
         "name": "Aircraft.damage",
         "rawType": "object",
         "type": "string"
        },
        {
         "name": "Aircraft.Category",
         "rawType": "object",
         "type": "string"
        },
        {
         "name": "Make",
         "rawType": "object",
         "type": "string"
        },
        {
         "name": "Model",
         "rawType": "object",
         "type": "string"
        },
        {
         "name": "Number.of.Engines",
         "rawType": "float64",
         "type": "float"
        },
        {
         "name": "Engine.Type",
         "rawType": "object",
         "type": "string"
        },
        {
         "name": "Purpose.of.flight",
         "rawType": "object",
         "type": "string"
        },
        {
         "name": "Total.Fatal.Injuries",
         "rawType": "float64",
         "type": "float"
        },
        {
         "name": "Total.Serious.Injuries",
         "rawType": "float64",
         "type": "float"
        },
        {
         "name": "Total.Minor.Injuries",
         "rawType": "float64",
         "type": "float"
        },
        {
         "name": "Total.Uninjured",
         "rawType": "float64",
         "type": "float"
        },
        {
         "name": "Weather.Condition",
         "rawType": "object",
         "type": "string"
        }
       ],
       "ref": "b887e1c6-72eb-4130-9a95-2a95973195f0",
       "rows": [
        [
         "0",
         "Accident",
         "Fatal(2)",
         "Destroyed",
         null,
         "Stinson",
         "108-3",
         "1.0",
         "Reciprocating",
         "Personal",
         "2.0",
         "0.0",
         "0.0",
         "0.0",
         "UNK"
        ],
        [
         "1",
         "Accident",
         "Fatal(4)",
         "Destroyed",
         null,
         "Piper",
         "PA24-180",
         "1.0",
         "Reciprocating",
         "Personal",
         "4.0",
         "0.0",
         "0.0",
         "0.0",
         "UNK"
        ],
        [
         "2",
         "Accident",
         "Fatal(3)",
         "Destroyed",
         null,
         "Cessna",
         "172M",
         "1.0",
         "Reciprocating",
         "Personal",
         "3.0",
         null,
         null,
         null,
         "IMC"
        ],
        [
         "3",
         "Accident",
         "Fatal(2)",
         "Destroyed",
         null,
         "Rockwell",
         "112",
         "1.0",
         "Reciprocating",
         "Personal",
         "2.0",
         "0.0",
         "0.0",
         "0.0",
         "IMC"
        ],
        [
         "4",
         "Accident",
         "Fatal(1)",
         "Destroyed",
         null,
         "Cessna",
         "501",
         null,
         null,
         "Personal",
         "1.0",
         "2.0",
         null,
         "0.0",
         "VMC"
        ],
        [
         "5",
         "Accident",
         "Non-Fatal",
         "Substantial",
         "Airplane",
         "Mcdonnell Douglas",
         "DC9",
         "2.0",
         "Turbo Fan",
         null,
         null,
         null,
         "1.0",
         "44.0",
         "VMC"
        ],
        [
         "6",
         "Accident",
         "Fatal(4)",
         "Destroyed",
         null,
         "Cessna",
         "180",
         "1.0",
         "Reciprocating",
         "Personal",
         "4.0",
         "0.0",
         "0.0",
         "0.0",
         "IMC"
        ],
        [
         "7",
         "Accident",
         "Non-Fatal",
         "Substantial",
         "Airplane",
         "Cessna",
         "140",
         "1.0",
         "Reciprocating",
         "Personal",
         "0.0",
         "0.0",
         "0.0",
         "2.0",
         "VMC"
        ],
        [
         "8",
         "Accident",
         "Non-Fatal",
         "Substantial",
         "Airplane",
         "Cessna",
         "401B",
         "2.0",
         "Reciprocating",
         "Business",
         "0.0",
         "0.0",
         "0.0",
         "2.0",
         "IMC"
        ],
        [
         "9",
         "Accident",
         "Non-Fatal",
         "Substantial",
         null,
         "North American",
         "NAVION L-17B",
         "1.0",
         "Reciprocating",
         "Personal",
         "0.0",
         "0.0",
         "3.0",
         "0.0",
         "IMC"
        ],
        [
         "10",
         "Accident",
         "Non-Fatal",
         "Substantial",
         null,
         "Piper",
         "PA-28-161",
         "1.0",
         "Reciprocating",
         "Personal",
         "0.0",
         "0.0",
         "0.0",
         "1.0",
         "VMC"
        ],
        [
         "11",
         "Accident",
         "Non-Fatal",
         "Substantial",
         null,
         "Beech",
         "V35B",
         "1.0",
         "Reciprocating",
         "Personal",
         "0.0",
         "0.0",
         "0.0",
         "1.0",
         "VMC"
        ],
        [
         "12",
         "Accident",
         "Non-Fatal",
         "Destroyed",
         "Airplane",
         "Bellanca",
         "17-30A",
         "1.0",
         "Reciprocating",
         "Personal",
         "0.0",
         "0.0",
         "1.0",
         "0.0",
         "IMC"
        ],
        [
         "13",
         "Accident",
         "Fatal(1)",
         "Destroyed",
         "Airplane",
         "Cessna",
         "R172K",
         "1.0",
         "Reciprocating",
         "Personal",
         "1.0",
         "0.0",
         "0.0",
         "0.0",
         "IMC"
        ],
        [
         "14",
         "Accident",
         "Fatal(1)",
         "Destroyed",
         "Airplane",
         "Navion",
         "A",
         "1.0",
         "Reciprocating",
         "Personal",
         "1.0",
         "0.0",
         "0.0",
         "0.0",
         "IMC"
        ],
        [
         "15",
         "Accident",
         "Fatal(2)",
         "Destroyed",
         "Airplane",
         "Beech",
         "19",
         "1.0",
         "Reciprocating",
         "Personal",
         "2.0",
         "0.0",
         "0.0",
         "0.0",
         "IMC"
        ],
        [
         "16",
         "Accident",
         "Non-Fatal",
         "Destroyed",
         "Helicopter",
         "Enstrom",
         "280C",
         "1.0",
         "Reciprocating",
         "Personal",
         "0.0",
         "0.0",
         "0.0",
         "1.0",
         "IMC"
        ],
        [
         "17",
         "Accident",
         "Fatal(3)",
         "Destroyed",
         "Airplane",
         "Cessna",
         "180",
         "1.0",
         "Reciprocating",
         "Personal",
         "3.0",
         "0.0",
         "0.0",
         "0.0",
         "VMC"
        ],
        [
         "18",
         "Accident",
         "Non-Fatal",
         "Substantial",
         "Airplane",
         "Cessna",
         "172",
         "1.0",
         "Reciprocating",
         "Personal",
         "0.0",
         "0.0",
         "0.0",
         "1.0",
         "VMC"
        ],
        [
         "19",
         "Accident",
         "Non-Fatal",
         "Substantial",
         "Helicopter",
         "Smith",
         "WCS-222 (BELL 47G)",
         "1.0",
         "Reciprocating",
         "Personal",
         "0.0",
         "0.0",
         "0.0",
         "2.0",
         "VMC"
        ],
        [
         "20",
         "Accident",
         "Non-Fatal",
         "Substantial",
         "Airplane",
         "Cessna",
         "152",
         "1.0",
         "Reciprocating",
         "Instructional",
         "0.0",
         "0.0",
         "0.0",
         "1.0",
         "VMC"
        ],
        [
         "21",
         "Accident",
         "Non-Fatal",
         "Substantial",
         "Airplane",
         "Cessna",
         "150L",
         "1.0",
         "Reciprocating",
         "Personal",
         "0.0",
         "0.0",
         "0.0",
         "2.0",
         "VMC"
        ],
        [
         "22",
         "Accident",
         "Non-Fatal",
         "Substantial",
         "Helicopter",
         "Bell",
         "206L-1",
         "1.0",
         "Turbo Shaft",
         "Unknown",
         "0.0",
         "0.0",
         "0.0",
         "1.0",
         "VMC"
        ],
        [
         "23",
         "Incident",
         "Incident",
         "Minor",
         "Airplane",
         "Piper",
         "PA-24-180",
         "1.0",
         "Reciprocating",
         "Personal",
         "0.0",
         "0.0",
         "0.0",
         "1.0",
         "VMC"
        ],
        [
         "24",
         "Accident",
         "Fatal(2)",
         "Destroyed",
         "Airplane",
         "Grumman",
         "AA-5B",
         "1.0",
         "Reciprocating",
         "Personal",
         "2.0",
         "1.0",
         "0.0",
         "0.0",
         "IMC"
        ],
        [
         "25",
         "Accident",
         "Fatal(8)",
         "Destroyed",
         "Airplane",
         "Cessna",
         "414A",
         "2.0",
         "Reciprocating",
         "Business",
         "8.0",
         "0.0",
         "0.0",
         "0.0",
         "IMC"
        ],
        [
         "26",
         "Accident",
         "Fatal(1)",
         "Destroyed",
         "Airplane",
         "Beechcraft",
         "BE-58",
         "2.0",
         "Reciprocating",
         "Personal",
         "1.0",
         "0.0",
         "0.0",
         "0.0",
         "IMC"
        ],
        [
         "27",
         "Accident",
         "Non-Fatal",
         "Substantial",
         "Airplane",
         "Maule",
         "M-5-235C",
         "1.0",
         "Reciprocating",
         "Personal",
         "0.0",
         "0.0",
         "0.0",
         "2.0",
         "VMC"
        ],
        [
         "28",
         "Accident",
         "Non-Fatal",
         "Substantial",
         "Airplane",
         "Cessna",
         "210L",
         "1.0",
         "Reciprocating",
         "Personal",
         "0.0",
         "0.0",
         "1.0",
         "1.0",
         "VMC"
        ],
        [
         "29",
         "Accident",
         "Non-Fatal",
         "Substantial",
         "Airplane",
         "Bellanca",
         "7GCBC",
         "1.0",
         "Reciprocating",
         "Personal",
         "0.0",
         "0.0",
         "2.0",
         "0.0",
         "VMC"
        ],
        [
         "30",
         "Accident",
         "Non-Fatal",
         "Substantial",
         "Airplane",
         "Cessna",
         "182",
         "1.0",
         "Reciprocating",
         "Personal",
         "0.0",
         "0.0",
         "2.0",
         "0.0",
         "VMC"
        ],
        [
         "31",
         "Accident",
         "Non-Fatal",
         "Substantial",
         "Airplane",
         "Air Tractor",
         "AT-301",
         "1.0",
         "Reciprocating",
         "Ferry",
         "0.0",
         "0.0",
         "0.0",
         "1.0",
         "VMC"
        ],
        [
         "32",
         "Accident",
         "Fatal(4)",
         "Destroyed",
         "Airplane",
         "Piper",
         "PA-28-161",
         "1.0",
         "Reciprocating",
         "Personal",
         "4.0",
         "0.0",
         "0.0",
         "0.0",
         "VMC"
        ],
        [
         "33",
         "Accident",
         "Fatal(2)",
         "Destroyed",
         "Airplane",
         "Piper",
         "PA-34-200T",
         "2.0",
         "Reciprocating",
         "Unknown",
         "2.0",
         "0.0",
         "0.0",
         "0.0",
         "VMC"
        ],
        [
         "34",
         "Accident",
         "Fatal(2)",
         "Destroyed",
         "Airplane",
         "Cessna",
         "T337G",
         "2.0",
         "Reciprocating",
         "Personal",
         "2.0",
         "2.0",
         "0.0",
         "0.0",
         "IMC"
        ],
        [
         "35",
         "Accident",
         "Non-Fatal",
         "Substantial",
         "Airplane",
         "Piper",
         "PA-28R-200",
         "1.0",
         "Reciprocating",
         "Personal",
         "0.0",
         "0.0",
         "2.0",
         "0.0",
         "VMC"
        ],
        [
         "36",
         "Accident",
         "Fatal(1)",
         "Destroyed",
         "Airplane",
         "Cessna",
         "206",
         "1.0",
         "Reciprocating",
         "Business",
         "1.0",
         "0.0",
         "1.0",
         "0.0",
         "VMC"
        ],
        [
         "37",
         "Accident",
         "Fatal(3)",
         "Destroyed",
         "Airplane",
         "Navion",
         "A",
         "1.0",
         "Reciprocating",
         "Business",
         "3.0",
         "0.0",
         "0.0",
         "0.0",
         "IMC"
        ],
        [
         "38",
         "Accident",
         "Fatal(1)",
         "Destroyed",
         "Airplane",
         "Piper",
         "PA-22",
         "1.0",
         "Reciprocating",
         "Personal",
         "1.0",
         "0.0",
         "0.0",
         "0.0",
         "IMC"
        ],
        [
         "39",
         "Accident",
         "Fatal(2)",
         "Destroyed",
         "Airplane",
         "Piper",
         "PA-31",
         "2.0",
         "Reciprocating",
         "Unknown",
         "2.0",
         "0.0",
         "0.0",
         "0.0",
         "VMC"
        ],
        [
         "40",
         "Incident",
         "Incident",
         "Minor",
         "Airplane",
         "Rockwell",
         "114",
         "1.0",
         "Reciprocating",
         "Business",
         "0.0",
         "0.0",
         "0.0",
         "1.0",
         "VMC"
        ],
        [
         "41",
         "Accident",
         "Non-Fatal",
         "Substantial",
         "Airplane",
         "Piper",
         "PA-24-250",
         "1.0",
         "Reciprocating",
         "Business",
         "0.0",
         "1.0",
         "0.0",
         "1.0",
         "VMC"
        ],
        [
         "42",
         "Accident",
         "Non-Fatal",
         "Substantial",
         "Airplane",
         "Piper",
         "PA-28R-200",
         "1.0",
         "Reciprocating",
         "Ferry",
         "0.0",
         "0.0",
         "0.0",
         "1.0",
         "VMC"
        ],
        [
         "43",
         "Accident",
         "Non-Fatal",
         "Substantial",
         "Airplane",
         "Cessna",
         "TR182",
         "1.0",
         "Reciprocating",
         "Unknown",
         "0.0",
         "0.0",
         "0.0",
         "1.0",
         "VMC"
        ],
        [
         "44",
         "Accident",
         "Non-Fatal",
         "Substantial",
         "Airplane",
         "Cessna",
         "A185F",
         "1.0",
         "Reciprocating",
         "Unknown",
         "0.0",
         "2.0",
         "0.0",
         "0.0",
         "VMC"
        ],
        [
         "45",
         "Accident",
         "Non-Fatal",
         "Substantial",
         "Airplane",
         "Cessna",
         "340",
         "2.0",
         "Reciprocating",
         "Executive/corporate",
         "0.0",
         "0.0",
         "0.0",
         "3.0",
         "VMC"
        ],
        [
         "46",
         "Accident",
         "Non-Fatal",
         "Substantial",
         "Helicopter",
         "Aerospatiale",
         "SA-316B",
         "1.0",
         "Turbo Shaft",
         "Business",
         "0.0",
         "0.0",
         "0.0",
         "6.0",
         "VMC"
        ],
        [
         "47",
         "Accident",
         "Non-Fatal",
         "Substantial",
         "Airplane",
         "Beech",
         "35",
         "1.0",
         "Reciprocating",
         "Personal",
         "0.0",
         "0.0",
         "0.0",
         "3.0",
         "VMC"
        ],
        [
         "48",
         "Accident",
         "Non-Fatal",
         "Substantial",
         "Airplane",
         "Cessna",
         "152",
         "1.0",
         "Reciprocating",
         "Instructional",
         "0.0",
         "0.0",
         "0.0",
         "2.0",
         "VMC"
        ],
        [
         "49",
         "Accident",
         "Non-Fatal",
         "Substantial",
         "Airplane",
         "Mooney",
         "M-20J",
         "1.0",
         "Reciprocating",
         "Business",
         "0.0",
         "0.0",
         "0.0",
         "2.0",
         "VMC"
        ]
       ],
       "shape": {
        "columns": 14,
        "rows": 90348
       }
      },
      "text/html": [
       "<div>\n",
       "<style scoped>\n",
       "    .dataframe tbody tr th:only-of-type {\n",
       "        vertical-align: middle;\n",
       "    }\n",
       "\n",
       "    .dataframe tbody tr th {\n",
       "        vertical-align: top;\n",
       "    }\n",
       "\n",
       "    .dataframe thead th {\n",
       "        text-align: right;\n",
       "    }\n",
       "</style>\n",
       "<table border=\"1\" class=\"dataframe\">\n",
       "  <thead>\n",
       "    <tr style=\"text-align: right;\">\n",
       "      <th></th>\n",
       "      <th>Investigation.Type</th>\n",
       "      <th>Injury.Severity</th>\n",
       "      <th>Aircraft.damage</th>\n",
       "      <th>Aircraft.Category</th>\n",
       "      <th>Make</th>\n",
       "      <th>Model</th>\n",
       "      <th>Number.of.Engines</th>\n",
       "      <th>Engine.Type</th>\n",
       "      <th>Purpose.of.flight</th>\n",
       "      <th>Total.Fatal.Injuries</th>\n",
       "      <th>Total.Serious.Injuries</th>\n",
       "      <th>Total.Minor.Injuries</th>\n",
       "      <th>Total.Uninjured</th>\n",
       "      <th>Weather.Condition</th>\n",
       "    </tr>\n",
       "  </thead>\n",
       "  <tbody>\n",
       "    <tr>\n",
       "      <th>0</th>\n",
       "      <td>Accident</td>\n",
       "      <td>Fatal(2)</td>\n",
       "      <td>Destroyed</td>\n",
       "      <td>NaN</td>\n",
       "      <td>Stinson</td>\n",
       "      <td>108-3</td>\n",
       "      <td>1.0</td>\n",
       "      <td>Reciprocating</td>\n",
       "      <td>Personal</td>\n",
       "      <td>2.0</td>\n",
       "      <td>0.0</td>\n",
       "      <td>0.0</td>\n",
       "      <td>0.0</td>\n",
       "      <td>UNK</td>\n",
       "    </tr>\n",
       "    <tr>\n",
       "      <th>1</th>\n",
       "      <td>Accident</td>\n",
       "      <td>Fatal(4)</td>\n",
       "      <td>Destroyed</td>\n",
       "      <td>NaN</td>\n",
       "      <td>Piper</td>\n",
       "      <td>PA24-180</td>\n",
       "      <td>1.0</td>\n",
       "      <td>Reciprocating</td>\n",
       "      <td>Personal</td>\n",
       "      <td>4.0</td>\n",
       "      <td>0.0</td>\n",
       "      <td>0.0</td>\n",
       "      <td>0.0</td>\n",
       "      <td>UNK</td>\n",
       "    </tr>\n",
       "    <tr>\n",
       "      <th>2</th>\n",
       "      <td>Accident</td>\n",
       "      <td>Fatal(3)</td>\n",
       "      <td>Destroyed</td>\n",
       "      <td>NaN</td>\n",
       "      <td>Cessna</td>\n",
       "      <td>172M</td>\n",
       "      <td>1.0</td>\n",
       "      <td>Reciprocating</td>\n",
       "      <td>Personal</td>\n",
       "      <td>3.0</td>\n",
       "      <td>NaN</td>\n",
       "      <td>NaN</td>\n",
       "      <td>NaN</td>\n",
       "      <td>IMC</td>\n",
       "    </tr>\n",
       "    <tr>\n",
       "      <th>3</th>\n",
       "      <td>Accident</td>\n",
       "      <td>Fatal(2)</td>\n",
       "      <td>Destroyed</td>\n",
       "      <td>NaN</td>\n",
       "      <td>Rockwell</td>\n",
       "      <td>112</td>\n",
       "      <td>1.0</td>\n",
       "      <td>Reciprocating</td>\n",
       "      <td>Personal</td>\n",
       "      <td>2.0</td>\n",
       "      <td>0.0</td>\n",
       "      <td>0.0</td>\n",
       "      <td>0.0</td>\n",
       "      <td>IMC</td>\n",
       "    </tr>\n",
       "    <tr>\n",
       "      <th>4</th>\n",
       "      <td>Accident</td>\n",
       "      <td>Fatal(1)</td>\n",
       "      <td>Destroyed</td>\n",
       "      <td>NaN</td>\n",
       "      <td>Cessna</td>\n",
       "      <td>501</td>\n",
       "      <td>NaN</td>\n",
       "      <td>NaN</td>\n",
       "      <td>Personal</td>\n",
       "      <td>1.0</td>\n",
       "      <td>2.0</td>\n",
       "      <td>NaN</td>\n",
       "      <td>0.0</td>\n",
       "      <td>VMC</td>\n",
       "    </tr>\n",
       "    <tr>\n",
       "      <th>...</th>\n",
       "      <td>...</td>\n",
       "      <td>...</td>\n",
       "      <td>...</td>\n",
       "      <td>...</td>\n",
       "      <td>...</td>\n",
       "      <td>...</td>\n",
       "      <td>...</td>\n",
       "      <td>...</td>\n",
       "      <td>...</td>\n",
       "      <td>...</td>\n",
       "      <td>...</td>\n",
       "      <td>...</td>\n",
       "      <td>...</td>\n",
       "      <td>...</td>\n",
       "    </tr>\n",
       "    <tr>\n",
       "      <th>90343</th>\n",
       "      <td>Accident</td>\n",
       "      <td>Minor</td>\n",
       "      <td>NaN</td>\n",
       "      <td>NaN</td>\n",
       "      <td>PIPER</td>\n",
       "      <td>PA-28-151</td>\n",
       "      <td>NaN</td>\n",
       "      <td>NaN</td>\n",
       "      <td>Personal</td>\n",
       "      <td>0.0</td>\n",
       "      <td>1.0</td>\n",
       "      <td>0.0</td>\n",
       "      <td>0.0</td>\n",
       "      <td>NaN</td>\n",
       "    </tr>\n",
       "    <tr>\n",
       "      <th>90344</th>\n",
       "      <td>Accident</td>\n",
       "      <td>NaN</td>\n",
       "      <td>NaN</td>\n",
       "      <td>NaN</td>\n",
       "      <td>BELLANCA</td>\n",
       "      <td>7ECA</td>\n",
       "      <td>NaN</td>\n",
       "      <td>NaN</td>\n",
       "      <td>NaN</td>\n",
       "      <td>0.0</td>\n",
       "      <td>0.0</td>\n",
       "      <td>0.0</td>\n",
       "      <td>0.0</td>\n",
       "      <td>NaN</td>\n",
       "    </tr>\n",
       "    <tr>\n",
       "      <th>90345</th>\n",
       "      <td>Accident</td>\n",
       "      <td>Non-Fatal</td>\n",
       "      <td>Substantial</td>\n",
       "      <td>Airplane</td>\n",
       "      <td>AMERICAN CHAMPION AIRCRAFT</td>\n",
       "      <td>8GCBC</td>\n",
       "      <td>1.0</td>\n",
       "      <td>NaN</td>\n",
       "      <td>Personal</td>\n",
       "      <td>0.0</td>\n",
       "      <td>0.0</td>\n",
       "      <td>0.0</td>\n",
       "      <td>1.0</td>\n",
       "      <td>VMC</td>\n",
       "    </tr>\n",
       "    <tr>\n",
       "      <th>90346</th>\n",
       "      <td>Accident</td>\n",
       "      <td>NaN</td>\n",
       "      <td>NaN</td>\n",
       "      <td>NaN</td>\n",
       "      <td>CESSNA</td>\n",
       "      <td>210N</td>\n",
       "      <td>NaN</td>\n",
       "      <td>NaN</td>\n",
       "      <td>Personal</td>\n",
       "      <td>0.0</td>\n",
       "      <td>0.0</td>\n",
       "      <td>0.0</td>\n",
       "      <td>0.0</td>\n",
       "      <td>NaN</td>\n",
       "    </tr>\n",
       "    <tr>\n",
       "      <th>90347</th>\n",
       "      <td>Accident</td>\n",
       "      <td>Minor</td>\n",
       "      <td>NaN</td>\n",
       "      <td>NaN</td>\n",
       "      <td>PIPER</td>\n",
       "      <td>PA-24-260</td>\n",
       "      <td>NaN</td>\n",
       "      <td>NaN</td>\n",
       "      <td>Personal</td>\n",
       "      <td>0.0</td>\n",
       "      <td>1.0</td>\n",
       "      <td>0.0</td>\n",
       "      <td>1.0</td>\n",
       "      <td>NaN</td>\n",
       "    </tr>\n",
       "  </tbody>\n",
       "</table>\n",
       "<p>90348 rows × 14 columns</p>\n",
       "</div>"
      ],
      "text/plain": [
       "      Investigation.Type Injury.Severity Aircraft.damage Aircraft.Category  \\\n",
       "0               Accident        Fatal(2)       Destroyed               NaN   \n",
       "1               Accident        Fatal(4)       Destroyed               NaN   \n",
       "2               Accident        Fatal(3)       Destroyed               NaN   \n",
       "3               Accident        Fatal(2)       Destroyed               NaN   \n",
       "4               Accident        Fatal(1)       Destroyed               NaN   \n",
       "...                  ...             ...             ...               ...   \n",
       "90343           Accident           Minor             NaN               NaN   \n",
       "90344           Accident             NaN             NaN               NaN   \n",
       "90345           Accident       Non-Fatal     Substantial          Airplane   \n",
       "90346           Accident             NaN             NaN               NaN   \n",
       "90347           Accident           Minor             NaN               NaN   \n",
       "\n",
       "                             Make      Model  Number.of.Engines  \\\n",
       "0                         Stinson      108-3                1.0   \n",
       "1                           Piper   PA24-180                1.0   \n",
       "2                          Cessna       172M                1.0   \n",
       "3                        Rockwell        112                1.0   \n",
       "4                          Cessna        501                NaN   \n",
       "...                           ...        ...                ...   \n",
       "90343                       PIPER  PA-28-151                NaN   \n",
       "90344                    BELLANCA       7ECA                NaN   \n",
       "90345  AMERICAN CHAMPION AIRCRAFT      8GCBC                1.0   \n",
       "90346                      CESSNA       210N                NaN   \n",
       "90347                       PIPER  PA-24-260                NaN   \n",
       "\n",
       "         Engine.Type Purpose.of.flight  Total.Fatal.Injuries  \\\n",
       "0      Reciprocating          Personal                   2.0   \n",
       "1      Reciprocating          Personal                   4.0   \n",
       "2      Reciprocating          Personal                   3.0   \n",
       "3      Reciprocating          Personal                   2.0   \n",
       "4                NaN          Personal                   1.0   \n",
       "...              ...               ...                   ...   \n",
       "90343            NaN          Personal                   0.0   \n",
       "90344            NaN               NaN                   0.0   \n",
       "90345            NaN          Personal                   0.0   \n",
       "90346            NaN          Personal                   0.0   \n",
       "90347            NaN          Personal                   0.0   \n",
       "\n",
       "       Total.Serious.Injuries  Total.Minor.Injuries  Total.Uninjured  \\\n",
       "0                         0.0                   0.0              0.0   \n",
       "1                         0.0                   0.0              0.0   \n",
       "2                         NaN                   NaN              NaN   \n",
       "3                         0.0                   0.0              0.0   \n",
       "4                         2.0                   NaN              0.0   \n",
       "...                       ...                   ...              ...   \n",
       "90343                     1.0                   0.0              0.0   \n",
       "90344                     0.0                   0.0              0.0   \n",
       "90345                     0.0                   0.0              1.0   \n",
       "90346                     0.0                   0.0              0.0   \n",
       "90347                     1.0                   0.0              1.0   \n",
       "\n",
       "      Weather.Condition  \n",
       "0                   UNK  \n",
       "1                   UNK  \n",
       "2                   IMC  \n",
       "3                   IMC  \n",
       "4                   VMC  \n",
       "...                 ...  \n",
       "90343               NaN  \n",
       "90344               NaN  \n",
       "90345               VMC  \n",
       "90346               NaN  \n",
       "90347               NaN  \n",
       "\n",
       "[90348 rows x 14 columns]"
      ]
     },
     "execution_count": 7,
     "metadata": {},
     "output_type": "execute_result"
    }
   ],
   "source": [
    "df"
   ]
  },
  {
   "cell_type": "markdown",
   "metadata": {},
   "source": [
    "The number of the remaining relevant columns "
   ]
  },
  {
   "cell_type": "code",
   "execution_count": 8,
   "metadata": {},
   "outputs": [
    {
     "data": {
      "text/plain": [
       "(90348, 14)"
      ]
     },
     "execution_count": 8,
     "metadata": {},
     "output_type": "execute_result"
    }
   ],
   "source": [
    "df.shape"
   ]
  },
  {
   "cell_type": "markdown",
   "metadata": {},
   "source": [
    "Determining the missing values"
   ]
  },
  {
   "cell_type": "code",
   "execution_count": 9,
   "metadata": {},
   "outputs": [
    {
     "data": {
      "application/vnd.microsoft.datawrangler.viewer.v0+json": {
       "columns": [
        {
         "name": "index",
         "rawType": "object",
         "type": "string"
        },
        {
         "name": "0",
         "rawType": "int64",
         "type": "integer"
        }
       ],
       "ref": "a21f5b4b-3d6f-4faa-9d49-8b3c775fbffb",
       "rows": [
        [
         "Investigation.Type",
         "0"
        ],
        [
         "Injury.Severity",
         "2459"
        ],
        [
         "Aircraft.damage",
         "4653"
        ],
        [
         "Aircraft.Category",
         "58061"
        ],
        [
         "Make",
         "1522"
        ],
        [
         "Model",
         "1551"
        ],
        [
         "Number.of.Engines",
         "7543"
        ],
        [
         "Engine.Type",
         "8536"
        ],
        [
         "Purpose.of.flight",
         "7651"
        ],
        [
         "Total.Fatal.Injuries",
         "12860"
        ],
        [
         "Total.Serious.Injuries",
         "13969"
        ],
        [
         "Total.Minor.Injuries",
         "13392"
        ],
        [
         "Total.Uninjured",
         "7371"
        ],
        [
         "Weather.Condition",
         "5951"
        ]
       ],
       "shape": {
        "columns": 1,
        "rows": 14
       }
      },
      "text/plain": [
       "Investigation.Type            0\n",
       "Injury.Severity            2459\n",
       "Aircraft.damage            4653\n",
       "Aircraft.Category         58061\n",
       "Make                       1522\n",
       "Model                      1551\n",
       "Number.of.Engines          7543\n",
       "Engine.Type                8536\n",
       "Purpose.of.flight          7651\n",
       "Total.Fatal.Injuries      12860\n",
       "Total.Serious.Injuries    13969\n",
       "Total.Minor.Injuries      13392\n",
       "Total.Uninjured            7371\n",
       "Weather.Condition          5951\n",
       "dtype: int64"
      ]
     },
     "execution_count": 9,
     "metadata": {},
     "output_type": "execute_result"
    }
   ],
   "source": [
    "df.isna().sum()"
   ]
  },
  {
   "cell_type": "markdown",
   "metadata": {},
   "source": [
    "Columns that actually have missing values"
   ]
  },
  {
   "cell_type": "code",
   "execution_count": 10,
   "metadata": {},
   "outputs": [
    {
     "data": {
      "application/vnd.microsoft.datawrangler.viewer.v0+json": {
       "columns": [
        {
         "name": "index",
         "rawType": "object",
         "type": "string"
        },
        {
         "name": "0",
         "rawType": "int64",
         "type": "integer"
        }
       ],
       "ref": "04e29c16-ffb3-490b-8987-9044dc61942c",
       "rows": [
        [
         "Injury.Severity",
         "2459"
        ],
        [
         "Aircraft.damage",
         "4653"
        ],
        [
         "Aircraft.Category",
         "58061"
        ],
        [
         "Make",
         "1522"
        ],
        [
         "Model",
         "1551"
        ],
        [
         "Number.of.Engines",
         "7543"
        ],
        [
         "Engine.Type",
         "8536"
        ],
        [
         "Purpose.of.flight",
         "7651"
        ],
        [
         "Total.Fatal.Injuries",
         "12860"
        ],
        [
         "Total.Serious.Injuries",
         "13969"
        ],
        [
         "Total.Minor.Injuries",
         "13392"
        ],
        [
         "Total.Uninjured",
         "7371"
        ],
        [
         "Weather.Condition",
         "5951"
        ]
       ],
       "shape": {
        "columns": 1,
        "rows": 13
       }
      },
      "text/plain": [
       "Injury.Severity            2459\n",
       "Aircraft.damage            4653\n",
       "Aircraft.Category         58061\n",
       "Make                       1522\n",
       "Model                      1551\n",
       "Number.of.Engines          7543\n",
       "Engine.Type                8536\n",
       "Purpose.of.flight          7651\n",
       "Total.Fatal.Injuries      12860\n",
       "Total.Serious.Injuries    13969\n",
       "Total.Minor.Injuries      13392\n",
       "Total.Uninjured            7371\n",
       "Weather.Condition          5951\n",
       "dtype: int64"
      ]
     },
     "execution_count": 10,
     "metadata": {},
     "output_type": "execute_result"
    }
   ],
   "source": [
    "df.isna().sum()[df.isna().sum() > 0]"
   ]
  },
  {
   "cell_type": "markdown",
   "metadata": {},
   "source": [
    "Cleaning up the dataframe by replacing missing or invalid entries with \"Unknown\""
   ]
  },
  {
   "cell_type": "code",
   "execution_count": 11,
   "metadata": {},
   "outputs": [],
   "source": [
    "df['Purpose.of.flight'].fillna('Unknown', inplace=True)\n",
    "df['Engine.Type'].fillna('Unknown', inplace=True)\n",
    "df['Aircraft.damage'].fillna('Unknown', inplace=True)"
   ]
  },
  {
   "cell_type": "markdown",
   "metadata": {},
   "source": [
    "Removing duplicates"
   ]
  },
  {
   "cell_type": "code",
   "execution_count": 12,
   "metadata": {},
   "outputs": [
    {
     "data": {
      "text/plain": [
       "28467"
      ]
     },
     "execution_count": 12,
     "metadata": {},
     "output_type": "execute_result"
    }
   ],
   "source": [
    "df.duplicated().sum()"
   ]
  },
  {
   "cell_type": "markdown",
   "metadata": {},
   "source": [
    "Dropping duplicates"
   ]
  },
  {
   "cell_type": "code",
   "execution_count": 13,
   "metadata": {},
   "outputs": [
    {
     "data": {
      "application/vnd.microsoft.datawrangler.viewer.v0+json": {
       "columns": [
        {
         "name": "index",
         "rawType": "int64",
         "type": "integer"
        },
        {
         "name": "Investigation.Type",
         "rawType": "object",
         "type": "string"
        },
        {
         "name": "Injury.Severity",
         "rawType": "object",
         "type": "string"
        },
        {
         "name": "Aircraft.damage",
         "rawType": "object",
         "type": "string"
        },
        {
         "name": "Aircraft.Category",
         "rawType": "object",
         "type": "string"
        },
        {
         "name": "Make",
         "rawType": "object",
         "type": "string"
        },
        {
         "name": "Model",
         "rawType": "object",
         "type": "string"
        },
        {
         "name": "Number.of.Engines",
         "rawType": "float64",
         "type": "float"
        },
        {
         "name": "Engine.Type",
         "rawType": "object",
         "type": "string"
        },
        {
         "name": "Purpose.of.flight",
         "rawType": "object",
         "type": "string"
        },
        {
         "name": "Total.Fatal.Injuries",
         "rawType": "float64",
         "type": "float"
        },
        {
         "name": "Total.Serious.Injuries",
         "rawType": "float64",
         "type": "float"
        },
        {
         "name": "Total.Minor.Injuries",
         "rawType": "float64",
         "type": "float"
        },
        {
         "name": "Total.Uninjured",
         "rawType": "float64",
         "type": "float"
        },
        {
         "name": "Weather.Condition",
         "rawType": "object",
         "type": "string"
        }
       ],
       "ref": "c0f2ae89-6535-4754-9339-effe6a338f1b",
       "rows": [
        [
         "0",
         "Accident",
         "Fatal(2)",
         "Destroyed",
         null,
         "Stinson",
         "108-3",
         "1.0",
         "Reciprocating",
         "Personal",
         "2.0",
         "0.0",
         "0.0",
         "0.0",
         "UNK"
        ],
        [
         "1",
         "Accident",
         "Fatal(4)",
         "Destroyed",
         null,
         "Piper",
         "PA24-180",
         "1.0",
         "Reciprocating",
         "Personal",
         "4.0",
         "0.0",
         "0.0",
         "0.0",
         "UNK"
        ],
        [
         "2",
         "Accident",
         "Fatal(3)",
         "Destroyed",
         null,
         "Cessna",
         "172M",
         "1.0",
         "Reciprocating",
         "Personal",
         "3.0",
         null,
         null,
         null,
         "IMC"
        ],
        [
         "3",
         "Accident",
         "Fatal(2)",
         "Destroyed",
         null,
         "Rockwell",
         "112",
         "1.0",
         "Reciprocating",
         "Personal",
         "2.0",
         "0.0",
         "0.0",
         "0.0",
         "IMC"
        ],
        [
         "4",
         "Accident",
         "Fatal(1)",
         "Destroyed",
         null,
         "Cessna",
         "501",
         null,
         "Unknown",
         "Personal",
         "1.0",
         "2.0",
         null,
         "0.0",
         "VMC"
        ],
        [
         "5",
         "Accident",
         "Non-Fatal",
         "Substantial",
         "Airplane",
         "Mcdonnell Douglas",
         "DC9",
         "2.0",
         "Turbo Fan",
         "Unknown",
         null,
         null,
         "1.0",
         "44.0",
         "VMC"
        ],
        [
         "6",
         "Accident",
         "Fatal(4)",
         "Destroyed",
         null,
         "Cessna",
         "180",
         "1.0",
         "Reciprocating",
         "Personal",
         "4.0",
         "0.0",
         "0.0",
         "0.0",
         "IMC"
        ],
        [
         "7",
         "Accident",
         "Non-Fatal",
         "Substantial",
         "Airplane",
         "Cessna",
         "140",
         "1.0",
         "Reciprocating",
         "Personal",
         "0.0",
         "0.0",
         "0.0",
         "2.0",
         "VMC"
        ],
        [
         "8",
         "Accident",
         "Non-Fatal",
         "Substantial",
         "Airplane",
         "Cessna",
         "401B",
         "2.0",
         "Reciprocating",
         "Business",
         "0.0",
         "0.0",
         "0.0",
         "2.0",
         "IMC"
        ],
        [
         "9",
         "Accident",
         "Non-Fatal",
         "Substantial",
         null,
         "North American",
         "NAVION L-17B",
         "1.0",
         "Reciprocating",
         "Personal",
         "0.0",
         "0.0",
         "3.0",
         "0.0",
         "IMC"
        ],
        [
         "10",
         "Accident",
         "Non-Fatal",
         "Substantial",
         null,
         "Piper",
         "PA-28-161",
         "1.0",
         "Reciprocating",
         "Personal",
         "0.0",
         "0.0",
         "0.0",
         "1.0",
         "VMC"
        ],
        [
         "11",
         "Accident",
         "Non-Fatal",
         "Substantial",
         null,
         "Beech",
         "V35B",
         "1.0",
         "Reciprocating",
         "Personal",
         "0.0",
         "0.0",
         "0.0",
         "1.0",
         "VMC"
        ],
        [
         "12",
         "Accident",
         "Non-Fatal",
         "Destroyed",
         "Airplane",
         "Bellanca",
         "17-30A",
         "1.0",
         "Reciprocating",
         "Personal",
         "0.0",
         "0.0",
         "1.0",
         "0.0",
         "IMC"
        ],
        [
         "13",
         "Accident",
         "Fatal(1)",
         "Destroyed",
         "Airplane",
         "Cessna",
         "R172K",
         "1.0",
         "Reciprocating",
         "Personal",
         "1.0",
         "0.0",
         "0.0",
         "0.0",
         "IMC"
        ],
        [
         "14",
         "Accident",
         "Fatal(1)",
         "Destroyed",
         "Airplane",
         "Navion",
         "A",
         "1.0",
         "Reciprocating",
         "Personal",
         "1.0",
         "0.0",
         "0.0",
         "0.0",
         "IMC"
        ],
        [
         "15",
         "Accident",
         "Fatal(2)",
         "Destroyed",
         "Airplane",
         "Beech",
         "19",
         "1.0",
         "Reciprocating",
         "Personal",
         "2.0",
         "0.0",
         "0.0",
         "0.0",
         "IMC"
        ],
        [
         "16",
         "Accident",
         "Non-Fatal",
         "Destroyed",
         "Helicopter",
         "Enstrom",
         "280C",
         "1.0",
         "Reciprocating",
         "Personal",
         "0.0",
         "0.0",
         "0.0",
         "1.0",
         "IMC"
        ],
        [
         "17",
         "Accident",
         "Fatal(3)",
         "Destroyed",
         "Airplane",
         "Cessna",
         "180",
         "1.0",
         "Reciprocating",
         "Personal",
         "3.0",
         "0.0",
         "0.0",
         "0.0",
         "VMC"
        ],
        [
         "18",
         "Accident",
         "Non-Fatal",
         "Substantial",
         "Airplane",
         "Cessna",
         "172",
         "1.0",
         "Reciprocating",
         "Personal",
         "0.0",
         "0.0",
         "0.0",
         "1.0",
         "VMC"
        ],
        [
         "19",
         "Accident",
         "Non-Fatal",
         "Substantial",
         "Helicopter",
         "Smith",
         "WCS-222 (BELL 47G)",
         "1.0",
         "Reciprocating",
         "Personal",
         "0.0",
         "0.0",
         "0.0",
         "2.0",
         "VMC"
        ],
        [
         "20",
         "Accident",
         "Non-Fatal",
         "Substantial",
         "Airplane",
         "Cessna",
         "152",
         "1.0",
         "Reciprocating",
         "Instructional",
         "0.0",
         "0.0",
         "0.0",
         "1.0",
         "VMC"
        ],
        [
         "21",
         "Accident",
         "Non-Fatal",
         "Substantial",
         "Airplane",
         "Cessna",
         "150L",
         "1.0",
         "Reciprocating",
         "Personal",
         "0.0",
         "0.0",
         "0.0",
         "2.0",
         "VMC"
        ],
        [
         "22",
         "Accident",
         "Non-Fatal",
         "Substantial",
         "Helicopter",
         "Bell",
         "206L-1",
         "1.0",
         "Turbo Shaft",
         "Unknown",
         "0.0",
         "0.0",
         "0.0",
         "1.0",
         "VMC"
        ],
        [
         "23",
         "Incident",
         "Incident",
         "Minor",
         "Airplane",
         "Piper",
         "PA-24-180",
         "1.0",
         "Reciprocating",
         "Personal",
         "0.0",
         "0.0",
         "0.0",
         "1.0",
         "VMC"
        ],
        [
         "24",
         "Accident",
         "Fatal(2)",
         "Destroyed",
         "Airplane",
         "Grumman",
         "AA-5B",
         "1.0",
         "Reciprocating",
         "Personal",
         "2.0",
         "1.0",
         "0.0",
         "0.0",
         "IMC"
        ],
        [
         "25",
         "Accident",
         "Fatal(8)",
         "Destroyed",
         "Airplane",
         "Cessna",
         "414A",
         "2.0",
         "Reciprocating",
         "Business",
         "8.0",
         "0.0",
         "0.0",
         "0.0",
         "IMC"
        ],
        [
         "26",
         "Accident",
         "Fatal(1)",
         "Destroyed",
         "Airplane",
         "Beechcraft",
         "BE-58",
         "2.0",
         "Reciprocating",
         "Personal",
         "1.0",
         "0.0",
         "0.0",
         "0.0",
         "IMC"
        ],
        [
         "27",
         "Accident",
         "Non-Fatal",
         "Substantial",
         "Airplane",
         "Maule",
         "M-5-235C",
         "1.0",
         "Reciprocating",
         "Personal",
         "0.0",
         "0.0",
         "0.0",
         "2.0",
         "VMC"
        ],
        [
         "28",
         "Accident",
         "Non-Fatal",
         "Substantial",
         "Airplane",
         "Cessna",
         "210L",
         "1.0",
         "Reciprocating",
         "Personal",
         "0.0",
         "0.0",
         "1.0",
         "1.0",
         "VMC"
        ],
        [
         "29",
         "Accident",
         "Non-Fatal",
         "Substantial",
         "Airplane",
         "Bellanca",
         "7GCBC",
         "1.0",
         "Reciprocating",
         "Personal",
         "0.0",
         "0.0",
         "2.0",
         "0.0",
         "VMC"
        ],
        [
         "30",
         "Accident",
         "Non-Fatal",
         "Substantial",
         "Airplane",
         "Cessna",
         "182",
         "1.0",
         "Reciprocating",
         "Personal",
         "0.0",
         "0.0",
         "2.0",
         "0.0",
         "VMC"
        ],
        [
         "31",
         "Accident",
         "Non-Fatal",
         "Substantial",
         "Airplane",
         "Air Tractor",
         "AT-301",
         "1.0",
         "Reciprocating",
         "Ferry",
         "0.0",
         "0.0",
         "0.0",
         "1.0",
         "VMC"
        ],
        [
         "32",
         "Accident",
         "Fatal(4)",
         "Destroyed",
         "Airplane",
         "Piper",
         "PA-28-161",
         "1.0",
         "Reciprocating",
         "Personal",
         "4.0",
         "0.0",
         "0.0",
         "0.0",
         "VMC"
        ],
        [
         "33",
         "Accident",
         "Fatal(2)",
         "Destroyed",
         "Airplane",
         "Piper",
         "PA-34-200T",
         "2.0",
         "Reciprocating",
         "Unknown",
         "2.0",
         "0.0",
         "0.0",
         "0.0",
         "VMC"
        ],
        [
         "34",
         "Accident",
         "Fatal(2)",
         "Destroyed",
         "Airplane",
         "Cessna",
         "T337G",
         "2.0",
         "Reciprocating",
         "Personal",
         "2.0",
         "2.0",
         "0.0",
         "0.0",
         "IMC"
        ],
        [
         "35",
         "Accident",
         "Non-Fatal",
         "Substantial",
         "Airplane",
         "Piper",
         "PA-28R-200",
         "1.0",
         "Reciprocating",
         "Personal",
         "0.0",
         "0.0",
         "2.0",
         "0.0",
         "VMC"
        ],
        [
         "36",
         "Accident",
         "Fatal(1)",
         "Destroyed",
         "Airplane",
         "Cessna",
         "206",
         "1.0",
         "Reciprocating",
         "Business",
         "1.0",
         "0.0",
         "1.0",
         "0.0",
         "VMC"
        ],
        [
         "37",
         "Accident",
         "Fatal(3)",
         "Destroyed",
         "Airplane",
         "Navion",
         "A",
         "1.0",
         "Reciprocating",
         "Business",
         "3.0",
         "0.0",
         "0.0",
         "0.0",
         "IMC"
        ],
        [
         "38",
         "Accident",
         "Fatal(1)",
         "Destroyed",
         "Airplane",
         "Piper",
         "PA-22",
         "1.0",
         "Reciprocating",
         "Personal",
         "1.0",
         "0.0",
         "0.0",
         "0.0",
         "IMC"
        ],
        [
         "39",
         "Accident",
         "Fatal(2)",
         "Destroyed",
         "Airplane",
         "Piper",
         "PA-31",
         "2.0",
         "Reciprocating",
         "Unknown",
         "2.0",
         "0.0",
         "0.0",
         "0.0",
         "VMC"
        ],
        [
         "40",
         "Incident",
         "Incident",
         "Minor",
         "Airplane",
         "Rockwell",
         "114",
         "1.0",
         "Reciprocating",
         "Business",
         "0.0",
         "0.0",
         "0.0",
         "1.0",
         "VMC"
        ],
        [
         "41",
         "Accident",
         "Non-Fatal",
         "Substantial",
         "Airplane",
         "Piper",
         "PA-24-250",
         "1.0",
         "Reciprocating",
         "Business",
         "0.0",
         "1.0",
         "0.0",
         "1.0",
         "VMC"
        ],
        [
         "42",
         "Accident",
         "Non-Fatal",
         "Substantial",
         "Airplane",
         "Piper",
         "PA-28R-200",
         "1.0",
         "Reciprocating",
         "Ferry",
         "0.0",
         "0.0",
         "0.0",
         "1.0",
         "VMC"
        ],
        [
         "43",
         "Accident",
         "Non-Fatal",
         "Substantial",
         "Airplane",
         "Cessna",
         "TR182",
         "1.0",
         "Reciprocating",
         "Unknown",
         "0.0",
         "0.0",
         "0.0",
         "1.0",
         "VMC"
        ],
        [
         "44",
         "Accident",
         "Non-Fatal",
         "Substantial",
         "Airplane",
         "Cessna",
         "A185F",
         "1.0",
         "Reciprocating",
         "Unknown",
         "0.0",
         "2.0",
         "0.0",
         "0.0",
         "VMC"
        ],
        [
         "45",
         "Accident",
         "Non-Fatal",
         "Substantial",
         "Airplane",
         "Cessna",
         "340",
         "2.0",
         "Reciprocating",
         "Executive/corporate",
         "0.0",
         "0.0",
         "0.0",
         "3.0",
         "VMC"
        ],
        [
         "46",
         "Accident",
         "Non-Fatal",
         "Substantial",
         "Helicopter",
         "Aerospatiale",
         "SA-316B",
         "1.0",
         "Turbo Shaft",
         "Business",
         "0.0",
         "0.0",
         "0.0",
         "6.0",
         "VMC"
        ],
        [
         "47",
         "Accident",
         "Non-Fatal",
         "Substantial",
         "Airplane",
         "Beech",
         "35",
         "1.0",
         "Reciprocating",
         "Personal",
         "0.0",
         "0.0",
         "0.0",
         "3.0",
         "VMC"
        ],
        [
         "48",
         "Accident",
         "Non-Fatal",
         "Substantial",
         "Airplane",
         "Cessna",
         "152",
         "1.0",
         "Reciprocating",
         "Instructional",
         "0.0",
         "0.0",
         "0.0",
         "2.0",
         "VMC"
        ],
        [
         "49",
         "Accident",
         "Non-Fatal",
         "Substantial",
         "Airplane",
         "Mooney",
         "M-20J",
         "1.0",
         "Reciprocating",
         "Business",
         "0.0",
         "0.0",
         "0.0",
         "2.0",
         "VMC"
        ]
       ],
       "shape": {
        "columns": 14,
        "rows": 61881
       }
      },
      "text/html": [
       "<div>\n",
       "<style scoped>\n",
       "    .dataframe tbody tr th:only-of-type {\n",
       "        vertical-align: middle;\n",
       "    }\n",
       "\n",
       "    .dataframe tbody tr th {\n",
       "        vertical-align: top;\n",
       "    }\n",
       "\n",
       "    .dataframe thead th {\n",
       "        text-align: right;\n",
       "    }\n",
       "</style>\n",
       "<table border=\"1\" class=\"dataframe\">\n",
       "  <thead>\n",
       "    <tr style=\"text-align: right;\">\n",
       "      <th></th>\n",
       "      <th>Investigation.Type</th>\n",
       "      <th>Injury.Severity</th>\n",
       "      <th>Aircraft.damage</th>\n",
       "      <th>Aircraft.Category</th>\n",
       "      <th>Make</th>\n",
       "      <th>Model</th>\n",
       "      <th>Number.of.Engines</th>\n",
       "      <th>Engine.Type</th>\n",
       "      <th>Purpose.of.flight</th>\n",
       "      <th>Total.Fatal.Injuries</th>\n",
       "      <th>Total.Serious.Injuries</th>\n",
       "      <th>Total.Minor.Injuries</th>\n",
       "      <th>Total.Uninjured</th>\n",
       "      <th>Weather.Condition</th>\n",
       "    </tr>\n",
       "  </thead>\n",
       "  <tbody>\n",
       "    <tr>\n",
       "      <th>0</th>\n",
       "      <td>Accident</td>\n",
       "      <td>Fatal(2)</td>\n",
       "      <td>Destroyed</td>\n",
       "      <td>NaN</td>\n",
       "      <td>Stinson</td>\n",
       "      <td>108-3</td>\n",
       "      <td>1.0</td>\n",
       "      <td>Reciprocating</td>\n",
       "      <td>Personal</td>\n",
       "      <td>2.0</td>\n",
       "      <td>0.0</td>\n",
       "      <td>0.0</td>\n",
       "      <td>0.0</td>\n",
       "      <td>UNK</td>\n",
       "    </tr>\n",
       "    <tr>\n",
       "      <th>1</th>\n",
       "      <td>Accident</td>\n",
       "      <td>Fatal(4)</td>\n",
       "      <td>Destroyed</td>\n",
       "      <td>NaN</td>\n",
       "      <td>Piper</td>\n",
       "      <td>PA24-180</td>\n",
       "      <td>1.0</td>\n",
       "      <td>Reciprocating</td>\n",
       "      <td>Personal</td>\n",
       "      <td>4.0</td>\n",
       "      <td>0.0</td>\n",
       "      <td>0.0</td>\n",
       "      <td>0.0</td>\n",
       "      <td>UNK</td>\n",
       "    </tr>\n",
       "    <tr>\n",
       "      <th>2</th>\n",
       "      <td>Accident</td>\n",
       "      <td>Fatal(3)</td>\n",
       "      <td>Destroyed</td>\n",
       "      <td>NaN</td>\n",
       "      <td>Cessna</td>\n",
       "      <td>172M</td>\n",
       "      <td>1.0</td>\n",
       "      <td>Reciprocating</td>\n",
       "      <td>Personal</td>\n",
       "      <td>3.0</td>\n",
       "      <td>NaN</td>\n",
       "      <td>NaN</td>\n",
       "      <td>NaN</td>\n",
       "      <td>IMC</td>\n",
       "    </tr>\n",
       "    <tr>\n",
       "      <th>3</th>\n",
       "      <td>Accident</td>\n",
       "      <td>Fatal(2)</td>\n",
       "      <td>Destroyed</td>\n",
       "      <td>NaN</td>\n",
       "      <td>Rockwell</td>\n",
       "      <td>112</td>\n",
       "      <td>1.0</td>\n",
       "      <td>Reciprocating</td>\n",
       "      <td>Personal</td>\n",
       "      <td>2.0</td>\n",
       "      <td>0.0</td>\n",
       "      <td>0.0</td>\n",
       "      <td>0.0</td>\n",
       "      <td>IMC</td>\n",
       "    </tr>\n",
       "    <tr>\n",
       "      <th>4</th>\n",
       "      <td>Accident</td>\n",
       "      <td>Fatal(1)</td>\n",
       "      <td>Destroyed</td>\n",
       "      <td>NaN</td>\n",
       "      <td>Cessna</td>\n",
       "      <td>501</td>\n",
       "      <td>NaN</td>\n",
       "      <td>Unknown</td>\n",
       "      <td>Personal</td>\n",
       "      <td>1.0</td>\n",
       "      <td>2.0</td>\n",
       "      <td>NaN</td>\n",
       "      <td>0.0</td>\n",
       "      <td>VMC</td>\n",
       "    </tr>\n",
       "    <tr>\n",
       "      <th>...</th>\n",
       "      <td>...</td>\n",
       "      <td>...</td>\n",
       "      <td>...</td>\n",
       "      <td>...</td>\n",
       "      <td>...</td>\n",
       "      <td>...</td>\n",
       "      <td>...</td>\n",
       "      <td>...</td>\n",
       "      <td>...</td>\n",
       "      <td>...</td>\n",
       "      <td>...</td>\n",
       "      <td>...</td>\n",
       "      <td>...</td>\n",
       "      <td>...</td>\n",
       "    </tr>\n",
       "    <tr>\n",
       "      <th>90341</th>\n",
       "      <td>Accident</td>\n",
       "      <td>Minor</td>\n",
       "      <td>Unknown</td>\n",
       "      <td>NaN</td>\n",
       "      <td>GRUMMAN AMERICAN AVN. CORP.</td>\n",
       "      <td>AA-5B</td>\n",
       "      <td>NaN</td>\n",
       "      <td>Unknown</td>\n",
       "      <td>Instructional</td>\n",
       "      <td>0.0</td>\n",
       "      <td>1.0</td>\n",
       "      <td>0.0</td>\n",
       "      <td>1.0</td>\n",
       "      <td>NaN</td>\n",
       "    </tr>\n",
       "    <tr>\n",
       "      <th>90343</th>\n",
       "      <td>Accident</td>\n",
       "      <td>Minor</td>\n",
       "      <td>Unknown</td>\n",
       "      <td>NaN</td>\n",
       "      <td>PIPER</td>\n",
       "      <td>PA-28-151</td>\n",
       "      <td>NaN</td>\n",
       "      <td>Unknown</td>\n",
       "      <td>Personal</td>\n",
       "      <td>0.0</td>\n",
       "      <td>1.0</td>\n",
       "      <td>0.0</td>\n",
       "      <td>0.0</td>\n",
       "      <td>NaN</td>\n",
       "    </tr>\n",
       "    <tr>\n",
       "      <th>90344</th>\n",
       "      <td>Accident</td>\n",
       "      <td>NaN</td>\n",
       "      <td>Unknown</td>\n",
       "      <td>NaN</td>\n",
       "      <td>BELLANCA</td>\n",
       "      <td>7ECA</td>\n",
       "      <td>NaN</td>\n",
       "      <td>Unknown</td>\n",
       "      <td>Unknown</td>\n",
       "      <td>0.0</td>\n",
       "      <td>0.0</td>\n",
       "      <td>0.0</td>\n",
       "      <td>0.0</td>\n",
       "      <td>NaN</td>\n",
       "    </tr>\n",
       "    <tr>\n",
       "      <th>90346</th>\n",
       "      <td>Accident</td>\n",
       "      <td>NaN</td>\n",
       "      <td>Unknown</td>\n",
       "      <td>NaN</td>\n",
       "      <td>CESSNA</td>\n",
       "      <td>210N</td>\n",
       "      <td>NaN</td>\n",
       "      <td>Unknown</td>\n",
       "      <td>Personal</td>\n",
       "      <td>0.0</td>\n",
       "      <td>0.0</td>\n",
       "      <td>0.0</td>\n",
       "      <td>0.0</td>\n",
       "      <td>NaN</td>\n",
       "    </tr>\n",
       "    <tr>\n",
       "      <th>90347</th>\n",
       "      <td>Accident</td>\n",
       "      <td>Minor</td>\n",
       "      <td>Unknown</td>\n",
       "      <td>NaN</td>\n",
       "      <td>PIPER</td>\n",
       "      <td>PA-24-260</td>\n",
       "      <td>NaN</td>\n",
       "      <td>Unknown</td>\n",
       "      <td>Personal</td>\n",
       "      <td>0.0</td>\n",
       "      <td>1.0</td>\n",
       "      <td>0.0</td>\n",
       "      <td>1.0</td>\n",
       "      <td>NaN</td>\n",
       "    </tr>\n",
       "  </tbody>\n",
       "</table>\n",
       "<p>61881 rows × 14 columns</p>\n",
       "</div>"
      ],
      "text/plain": [
       "      Investigation.Type Injury.Severity Aircraft.damage Aircraft.Category  \\\n",
       "0               Accident        Fatal(2)       Destroyed               NaN   \n",
       "1               Accident        Fatal(4)       Destroyed               NaN   \n",
       "2               Accident        Fatal(3)       Destroyed               NaN   \n",
       "3               Accident        Fatal(2)       Destroyed               NaN   \n",
       "4               Accident        Fatal(1)       Destroyed               NaN   \n",
       "...                  ...             ...             ...               ...   \n",
       "90341           Accident           Minor         Unknown               NaN   \n",
       "90343           Accident           Minor         Unknown               NaN   \n",
       "90344           Accident             NaN         Unknown               NaN   \n",
       "90346           Accident             NaN         Unknown               NaN   \n",
       "90347           Accident           Minor         Unknown               NaN   \n",
       "\n",
       "                              Make      Model  Number.of.Engines  \\\n",
       "0                          Stinson      108-3                1.0   \n",
       "1                            Piper   PA24-180                1.0   \n",
       "2                           Cessna       172M                1.0   \n",
       "3                         Rockwell        112                1.0   \n",
       "4                           Cessna        501                NaN   \n",
       "...                            ...        ...                ...   \n",
       "90341  GRUMMAN AMERICAN AVN. CORP.      AA-5B                NaN   \n",
       "90343                        PIPER  PA-28-151                NaN   \n",
       "90344                     BELLANCA       7ECA                NaN   \n",
       "90346                       CESSNA       210N                NaN   \n",
       "90347                        PIPER  PA-24-260                NaN   \n",
       "\n",
       "         Engine.Type Purpose.of.flight  Total.Fatal.Injuries  \\\n",
       "0      Reciprocating          Personal                   2.0   \n",
       "1      Reciprocating          Personal                   4.0   \n",
       "2      Reciprocating          Personal                   3.0   \n",
       "3      Reciprocating          Personal                   2.0   \n",
       "4            Unknown          Personal                   1.0   \n",
       "...              ...               ...                   ...   \n",
       "90341        Unknown     Instructional                   0.0   \n",
       "90343        Unknown          Personal                   0.0   \n",
       "90344        Unknown           Unknown                   0.0   \n",
       "90346        Unknown          Personal                   0.0   \n",
       "90347        Unknown          Personal                   0.0   \n",
       "\n",
       "       Total.Serious.Injuries  Total.Minor.Injuries  Total.Uninjured  \\\n",
       "0                         0.0                   0.0              0.0   \n",
       "1                         0.0                   0.0              0.0   \n",
       "2                         NaN                   NaN              NaN   \n",
       "3                         0.0                   0.0              0.0   \n",
       "4                         2.0                   NaN              0.0   \n",
       "...                       ...                   ...              ...   \n",
       "90341                     1.0                   0.0              1.0   \n",
       "90343                     1.0                   0.0              0.0   \n",
       "90344                     0.0                   0.0              0.0   \n",
       "90346                     0.0                   0.0              0.0   \n",
       "90347                     1.0                   0.0              1.0   \n",
       "\n",
       "      Weather.Condition  \n",
       "0                   UNK  \n",
       "1                   UNK  \n",
       "2                   IMC  \n",
       "3                   IMC  \n",
       "4                   VMC  \n",
       "...                 ...  \n",
       "90341               NaN  \n",
       "90343               NaN  \n",
       "90344               NaN  \n",
       "90346               NaN  \n",
       "90347               NaN  \n",
       "\n",
       "[61881 rows x 14 columns]"
      ]
     },
     "execution_count": 13,
     "metadata": {},
     "output_type": "execute_result"
    }
   ],
   "source": [
    "df=df.drop_duplicates()\n",
    "df"
   ]
  },
  {
   "cell_type": "markdown",
   "metadata": {},
   "source": [
    "To drop all rows containing missing values in a DataFrame"
   ]
  },
  {
   "cell_type": "code",
   "execution_count": 14,
   "metadata": {},
   "outputs": [
    {
     "data": {
      "application/vnd.microsoft.datawrangler.viewer.v0+json": {
       "columns": [
        {
         "name": "index",
         "rawType": "int64",
         "type": "integer"
        },
        {
         "name": "Investigation.Type",
         "rawType": "object",
         "type": "string"
        },
        {
         "name": "Injury.Severity",
         "rawType": "object",
         "type": "string"
        },
        {
         "name": "Aircraft.damage",
         "rawType": "object",
         "type": "string"
        },
        {
         "name": "Aircraft.Category",
         "rawType": "object",
         "type": "string"
        },
        {
         "name": "Make",
         "rawType": "object",
         "type": "string"
        },
        {
         "name": "Model",
         "rawType": "object",
         "type": "string"
        },
        {
         "name": "Number.of.Engines",
         "rawType": "float64",
         "type": "float"
        },
        {
         "name": "Engine.Type",
         "rawType": "object",
         "type": "string"
        },
        {
         "name": "Purpose.of.flight",
         "rawType": "object",
         "type": "string"
        },
        {
         "name": "Total.Fatal.Injuries",
         "rawType": "float64",
         "type": "float"
        },
        {
         "name": "Total.Serious.Injuries",
         "rawType": "float64",
         "type": "float"
        },
        {
         "name": "Total.Minor.Injuries",
         "rawType": "float64",
         "type": "float"
        },
        {
         "name": "Total.Uninjured",
         "rawType": "float64",
         "type": "float"
        },
        {
         "name": "Weather.Condition",
         "rawType": "object",
         "type": "string"
        }
       ],
       "ref": "a557bf57-95e4-45cd-986c-975b9c80014f",
       "rows": [
        [
         "7",
         "Accident",
         "Non-Fatal",
         "Substantial",
         "Airplane",
         "Cessna",
         "140",
         "1.0",
         "Reciprocating",
         "Personal",
         "0.0",
         "0.0",
         "0.0",
         "2.0",
         "VMC"
        ],
        [
         "8",
         "Accident",
         "Non-Fatal",
         "Substantial",
         "Airplane",
         "Cessna",
         "401B",
         "2.0",
         "Reciprocating",
         "Business",
         "0.0",
         "0.0",
         "0.0",
         "2.0",
         "IMC"
        ],
        [
         "12",
         "Accident",
         "Non-Fatal",
         "Destroyed",
         "Airplane",
         "Bellanca",
         "17-30A",
         "1.0",
         "Reciprocating",
         "Personal",
         "0.0",
         "0.0",
         "1.0",
         "0.0",
         "IMC"
        ],
        [
         "13",
         "Accident",
         "Fatal(1)",
         "Destroyed",
         "Airplane",
         "Cessna",
         "R172K",
         "1.0",
         "Reciprocating",
         "Personal",
         "1.0",
         "0.0",
         "0.0",
         "0.0",
         "IMC"
        ],
        [
         "14",
         "Accident",
         "Fatal(1)",
         "Destroyed",
         "Airplane",
         "Navion",
         "A",
         "1.0",
         "Reciprocating",
         "Personal",
         "1.0",
         "0.0",
         "0.0",
         "0.0",
         "IMC"
        ],
        [
         "15",
         "Accident",
         "Fatal(2)",
         "Destroyed",
         "Airplane",
         "Beech",
         "19",
         "1.0",
         "Reciprocating",
         "Personal",
         "2.0",
         "0.0",
         "0.0",
         "0.0",
         "IMC"
        ],
        [
         "16",
         "Accident",
         "Non-Fatal",
         "Destroyed",
         "Helicopter",
         "Enstrom",
         "280C",
         "1.0",
         "Reciprocating",
         "Personal",
         "0.0",
         "0.0",
         "0.0",
         "1.0",
         "IMC"
        ],
        [
         "17",
         "Accident",
         "Fatal(3)",
         "Destroyed",
         "Airplane",
         "Cessna",
         "180",
         "1.0",
         "Reciprocating",
         "Personal",
         "3.0",
         "0.0",
         "0.0",
         "0.0",
         "VMC"
        ],
        [
         "18",
         "Accident",
         "Non-Fatal",
         "Substantial",
         "Airplane",
         "Cessna",
         "172",
         "1.0",
         "Reciprocating",
         "Personal",
         "0.0",
         "0.0",
         "0.0",
         "1.0",
         "VMC"
        ],
        [
         "19",
         "Accident",
         "Non-Fatal",
         "Substantial",
         "Helicopter",
         "Smith",
         "WCS-222 (BELL 47G)",
         "1.0",
         "Reciprocating",
         "Personal",
         "0.0",
         "0.0",
         "0.0",
         "2.0",
         "VMC"
        ],
        [
         "20",
         "Accident",
         "Non-Fatal",
         "Substantial",
         "Airplane",
         "Cessna",
         "152",
         "1.0",
         "Reciprocating",
         "Instructional",
         "0.0",
         "0.0",
         "0.0",
         "1.0",
         "VMC"
        ],
        [
         "21",
         "Accident",
         "Non-Fatal",
         "Substantial",
         "Airplane",
         "Cessna",
         "150L",
         "1.0",
         "Reciprocating",
         "Personal",
         "0.0",
         "0.0",
         "0.0",
         "2.0",
         "VMC"
        ],
        [
         "22",
         "Accident",
         "Non-Fatal",
         "Substantial",
         "Helicopter",
         "Bell",
         "206L-1",
         "1.0",
         "Turbo Shaft",
         "Unknown",
         "0.0",
         "0.0",
         "0.0",
         "1.0",
         "VMC"
        ],
        [
         "23",
         "Incident",
         "Incident",
         "Minor",
         "Airplane",
         "Piper",
         "PA-24-180",
         "1.0",
         "Reciprocating",
         "Personal",
         "0.0",
         "0.0",
         "0.0",
         "1.0",
         "VMC"
        ],
        [
         "24",
         "Accident",
         "Fatal(2)",
         "Destroyed",
         "Airplane",
         "Grumman",
         "AA-5B",
         "1.0",
         "Reciprocating",
         "Personal",
         "2.0",
         "1.0",
         "0.0",
         "0.0",
         "IMC"
        ],
        [
         "25",
         "Accident",
         "Fatal(8)",
         "Destroyed",
         "Airplane",
         "Cessna",
         "414A",
         "2.0",
         "Reciprocating",
         "Business",
         "8.0",
         "0.0",
         "0.0",
         "0.0",
         "IMC"
        ],
        [
         "26",
         "Accident",
         "Fatal(1)",
         "Destroyed",
         "Airplane",
         "Beechcraft",
         "BE-58",
         "2.0",
         "Reciprocating",
         "Personal",
         "1.0",
         "0.0",
         "0.0",
         "0.0",
         "IMC"
        ],
        [
         "27",
         "Accident",
         "Non-Fatal",
         "Substantial",
         "Airplane",
         "Maule",
         "M-5-235C",
         "1.0",
         "Reciprocating",
         "Personal",
         "0.0",
         "0.0",
         "0.0",
         "2.0",
         "VMC"
        ],
        [
         "28",
         "Accident",
         "Non-Fatal",
         "Substantial",
         "Airplane",
         "Cessna",
         "210L",
         "1.0",
         "Reciprocating",
         "Personal",
         "0.0",
         "0.0",
         "1.0",
         "1.0",
         "VMC"
        ],
        [
         "29",
         "Accident",
         "Non-Fatal",
         "Substantial",
         "Airplane",
         "Bellanca",
         "7GCBC",
         "1.0",
         "Reciprocating",
         "Personal",
         "0.0",
         "0.0",
         "2.0",
         "0.0",
         "VMC"
        ],
        [
         "30",
         "Accident",
         "Non-Fatal",
         "Substantial",
         "Airplane",
         "Cessna",
         "182",
         "1.0",
         "Reciprocating",
         "Personal",
         "0.0",
         "0.0",
         "2.0",
         "0.0",
         "VMC"
        ],
        [
         "31",
         "Accident",
         "Non-Fatal",
         "Substantial",
         "Airplane",
         "Air Tractor",
         "AT-301",
         "1.0",
         "Reciprocating",
         "Ferry",
         "0.0",
         "0.0",
         "0.0",
         "1.0",
         "VMC"
        ],
        [
         "32",
         "Accident",
         "Fatal(4)",
         "Destroyed",
         "Airplane",
         "Piper",
         "PA-28-161",
         "1.0",
         "Reciprocating",
         "Personal",
         "4.0",
         "0.0",
         "0.0",
         "0.0",
         "VMC"
        ],
        [
         "33",
         "Accident",
         "Fatal(2)",
         "Destroyed",
         "Airplane",
         "Piper",
         "PA-34-200T",
         "2.0",
         "Reciprocating",
         "Unknown",
         "2.0",
         "0.0",
         "0.0",
         "0.0",
         "VMC"
        ],
        [
         "34",
         "Accident",
         "Fatal(2)",
         "Destroyed",
         "Airplane",
         "Cessna",
         "T337G",
         "2.0",
         "Reciprocating",
         "Personal",
         "2.0",
         "2.0",
         "0.0",
         "0.0",
         "IMC"
        ],
        [
         "35",
         "Accident",
         "Non-Fatal",
         "Substantial",
         "Airplane",
         "Piper",
         "PA-28R-200",
         "1.0",
         "Reciprocating",
         "Personal",
         "0.0",
         "0.0",
         "2.0",
         "0.0",
         "VMC"
        ],
        [
         "36",
         "Accident",
         "Fatal(1)",
         "Destroyed",
         "Airplane",
         "Cessna",
         "206",
         "1.0",
         "Reciprocating",
         "Business",
         "1.0",
         "0.0",
         "1.0",
         "0.0",
         "VMC"
        ],
        [
         "37",
         "Accident",
         "Fatal(3)",
         "Destroyed",
         "Airplane",
         "Navion",
         "A",
         "1.0",
         "Reciprocating",
         "Business",
         "3.0",
         "0.0",
         "0.0",
         "0.0",
         "IMC"
        ],
        [
         "38",
         "Accident",
         "Fatal(1)",
         "Destroyed",
         "Airplane",
         "Piper",
         "PA-22",
         "1.0",
         "Reciprocating",
         "Personal",
         "1.0",
         "0.0",
         "0.0",
         "0.0",
         "IMC"
        ],
        [
         "39",
         "Accident",
         "Fatal(2)",
         "Destroyed",
         "Airplane",
         "Piper",
         "PA-31",
         "2.0",
         "Reciprocating",
         "Unknown",
         "2.0",
         "0.0",
         "0.0",
         "0.0",
         "VMC"
        ],
        [
         "40",
         "Incident",
         "Incident",
         "Minor",
         "Airplane",
         "Rockwell",
         "114",
         "1.0",
         "Reciprocating",
         "Business",
         "0.0",
         "0.0",
         "0.0",
         "1.0",
         "VMC"
        ],
        [
         "41",
         "Accident",
         "Non-Fatal",
         "Substantial",
         "Airplane",
         "Piper",
         "PA-24-250",
         "1.0",
         "Reciprocating",
         "Business",
         "0.0",
         "1.0",
         "0.0",
         "1.0",
         "VMC"
        ],
        [
         "42",
         "Accident",
         "Non-Fatal",
         "Substantial",
         "Airplane",
         "Piper",
         "PA-28R-200",
         "1.0",
         "Reciprocating",
         "Ferry",
         "0.0",
         "0.0",
         "0.0",
         "1.0",
         "VMC"
        ],
        [
         "43",
         "Accident",
         "Non-Fatal",
         "Substantial",
         "Airplane",
         "Cessna",
         "TR182",
         "1.0",
         "Reciprocating",
         "Unknown",
         "0.0",
         "0.0",
         "0.0",
         "1.0",
         "VMC"
        ],
        [
         "44",
         "Accident",
         "Non-Fatal",
         "Substantial",
         "Airplane",
         "Cessna",
         "A185F",
         "1.0",
         "Reciprocating",
         "Unknown",
         "0.0",
         "2.0",
         "0.0",
         "0.0",
         "VMC"
        ],
        [
         "45",
         "Accident",
         "Non-Fatal",
         "Substantial",
         "Airplane",
         "Cessna",
         "340",
         "2.0",
         "Reciprocating",
         "Executive/corporate",
         "0.0",
         "0.0",
         "0.0",
         "3.0",
         "VMC"
        ],
        [
         "46",
         "Accident",
         "Non-Fatal",
         "Substantial",
         "Helicopter",
         "Aerospatiale",
         "SA-316B",
         "1.0",
         "Turbo Shaft",
         "Business",
         "0.0",
         "0.0",
         "0.0",
         "6.0",
         "VMC"
        ],
        [
         "47",
         "Accident",
         "Non-Fatal",
         "Substantial",
         "Airplane",
         "Beech",
         "35",
         "1.0",
         "Reciprocating",
         "Personal",
         "0.0",
         "0.0",
         "0.0",
         "3.0",
         "VMC"
        ],
        [
         "48",
         "Accident",
         "Non-Fatal",
         "Substantial",
         "Airplane",
         "Cessna",
         "152",
         "1.0",
         "Reciprocating",
         "Instructional",
         "0.0",
         "0.0",
         "0.0",
         "2.0",
         "VMC"
        ],
        [
         "49",
         "Accident",
         "Non-Fatal",
         "Substantial",
         "Airplane",
         "Mooney",
         "M-20J",
         "1.0",
         "Reciprocating",
         "Business",
         "0.0",
         "0.0",
         "0.0",
         "2.0",
         "VMC"
        ],
        [
         "50",
         "Accident",
         "Non-Fatal",
         "Substantial",
         "Airplane",
         "Boeing",
         "A75",
         "1.0",
         "Reciprocating",
         "Unknown",
         "0.0",
         "1.0",
         "0.0",
         "1.0",
         "IMC"
        ],
        [
         "51",
         "Accident",
         "Fatal(2)",
         "Destroyed",
         "Airplane",
         "Cessna",
         "210",
         "1.0",
         "Reciprocating",
         "Unknown",
         "2.0",
         "0.0",
         "0.0",
         "0.0",
         "VMC"
        ],
        [
         "52",
         "Accident",
         "Non-Fatal",
         "Substantial",
         "Airplane",
         "Beech",
         "V35",
         "1.0",
         "Reciprocating",
         "Personal",
         "0.0",
         "0.0",
         "0.0",
         "1.0",
         "VMC"
        ],
        [
         "53",
         "Accident",
         "Non-Fatal",
         "Substantial",
         "Airplane",
         "Curtis",
         "C46",
         "2.0",
         "Reciprocating",
         "Unknown",
         "0.0",
         "0.0",
         "0.0",
         "3.0",
         "VMC"
        ],
        [
         "54",
         "Accident",
         "Fatal(1)",
         "Destroyed",
         "Airplane",
         "Cessna",
         "172M",
         "1.0",
         "Reciprocating",
         "Personal",
         "1.0",
         "0.0",
         "0.0",
         "0.0",
         "IMC"
        ],
        [
         "55",
         "Accident",
         "Fatal(1)",
         "Destroyed",
         "Airplane",
         "Piper",
         "PA-28-140",
         "1.0",
         "Reciprocating",
         "Personal",
         "1.0",
         "1.0",
         "0.0",
         "0.0",
         "VMC"
        ],
        [
         "56",
         "Accident",
         "Non-Fatal",
         "Substantial",
         "Airplane",
         "Cessna",
         "TU206G",
         "1.0",
         "Reciprocating",
         "Business",
         "0.0",
         "0.0",
         "0.0",
         "1.0",
         "VMC"
        ],
        [
         "58",
         "Accident",
         "Non-Fatal",
         "Substantial",
         "Airplane",
         "Piper",
         "PA-24-250",
         "1.0",
         "Reciprocating",
         "Instructional",
         "0.0",
         "0.0",
         "0.0",
         "2.0",
         "VMC"
        ],
        [
         "60",
         "Accident",
         "Non-Fatal",
         "Substantial",
         "Airplane",
         "Cessna",
         "172N",
         "1.0",
         "Reciprocating",
         "Personal",
         "0.0",
         "0.0",
         "0.0",
         "2.0",
         "VMC"
        ],
        [
         "62",
         "Accident",
         "Non-Fatal",
         "Substantial",
         "Glider",
         "Schleicher",
         "ASW 20",
         "0.0",
         "Unknown",
         "Personal",
         "0.0",
         "0.0",
         "0.0",
         "1.0",
         "VMC"
        ]
       ],
       "shape": {
        "columns": 14,
        "rows": 17872
       }
      },
      "text/html": [
       "<div>\n",
       "<style scoped>\n",
       "    .dataframe tbody tr th:only-of-type {\n",
       "        vertical-align: middle;\n",
       "    }\n",
       "\n",
       "    .dataframe tbody tr th {\n",
       "        vertical-align: top;\n",
       "    }\n",
       "\n",
       "    .dataframe thead th {\n",
       "        text-align: right;\n",
       "    }\n",
       "</style>\n",
       "<table border=\"1\" class=\"dataframe\">\n",
       "  <thead>\n",
       "    <tr style=\"text-align: right;\">\n",
       "      <th></th>\n",
       "      <th>Investigation.Type</th>\n",
       "      <th>Injury.Severity</th>\n",
       "      <th>Aircraft.damage</th>\n",
       "      <th>Aircraft.Category</th>\n",
       "      <th>Make</th>\n",
       "      <th>Model</th>\n",
       "      <th>Number.of.Engines</th>\n",
       "      <th>Engine.Type</th>\n",
       "      <th>Purpose.of.flight</th>\n",
       "      <th>Total.Fatal.Injuries</th>\n",
       "      <th>Total.Serious.Injuries</th>\n",
       "      <th>Total.Minor.Injuries</th>\n",
       "      <th>Total.Uninjured</th>\n",
       "      <th>Weather.Condition</th>\n",
       "    </tr>\n",
       "  </thead>\n",
       "  <tbody>\n",
       "    <tr>\n",
       "      <th>7</th>\n",
       "      <td>Accident</td>\n",
       "      <td>Non-Fatal</td>\n",
       "      <td>Substantial</td>\n",
       "      <td>Airplane</td>\n",
       "      <td>Cessna</td>\n",
       "      <td>140</td>\n",
       "      <td>1.0</td>\n",
       "      <td>Reciprocating</td>\n",
       "      <td>Personal</td>\n",
       "      <td>0.0</td>\n",
       "      <td>0.0</td>\n",
       "      <td>0.0</td>\n",
       "      <td>2.0</td>\n",
       "      <td>VMC</td>\n",
       "    </tr>\n",
       "    <tr>\n",
       "      <th>8</th>\n",
       "      <td>Accident</td>\n",
       "      <td>Non-Fatal</td>\n",
       "      <td>Substantial</td>\n",
       "      <td>Airplane</td>\n",
       "      <td>Cessna</td>\n",
       "      <td>401B</td>\n",
       "      <td>2.0</td>\n",
       "      <td>Reciprocating</td>\n",
       "      <td>Business</td>\n",
       "      <td>0.0</td>\n",
       "      <td>0.0</td>\n",
       "      <td>0.0</td>\n",
       "      <td>2.0</td>\n",
       "      <td>IMC</td>\n",
       "    </tr>\n",
       "    <tr>\n",
       "      <th>12</th>\n",
       "      <td>Accident</td>\n",
       "      <td>Non-Fatal</td>\n",
       "      <td>Destroyed</td>\n",
       "      <td>Airplane</td>\n",
       "      <td>Bellanca</td>\n",
       "      <td>17-30A</td>\n",
       "      <td>1.0</td>\n",
       "      <td>Reciprocating</td>\n",
       "      <td>Personal</td>\n",
       "      <td>0.0</td>\n",
       "      <td>0.0</td>\n",
       "      <td>1.0</td>\n",
       "      <td>0.0</td>\n",
       "      <td>IMC</td>\n",
       "    </tr>\n",
       "    <tr>\n",
       "      <th>13</th>\n",
       "      <td>Accident</td>\n",
       "      <td>Fatal(1)</td>\n",
       "      <td>Destroyed</td>\n",
       "      <td>Airplane</td>\n",
       "      <td>Cessna</td>\n",
       "      <td>R172K</td>\n",
       "      <td>1.0</td>\n",
       "      <td>Reciprocating</td>\n",
       "      <td>Personal</td>\n",
       "      <td>1.0</td>\n",
       "      <td>0.0</td>\n",
       "      <td>0.0</td>\n",
       "      <td>0.0</td>\n",
       "      <td>IMC</td>\n",
       "    </tr>\n",
       "    <tr>\n",
       "      <th>14</th>\n",
       "      <td>Accident</td>\n",
       "      <td>Fatal(1)</td>\n",
       "      <td>Destroyed</td>\n",
       "      <td>Airplane</td>\n",
       "      <td>Navion</td>\n",
       "      <td>A</td>\n",
       "      <td>1.0</td>\n",
       "      <td>Reciprocating</td>\n",
       "      <td>Personal</td>\n",
       "      <td>1.0</td>\n",
       "      <td>0.0</td>\n",
       "      <td>0.0</td>\n",
       "      <td>0.0</td>\n",
       "      <td>IMC</td>\n",
       "    </tr>\n",
       "    <tr>\n",
       "      <th>...</th>\n",
       "      <td>...</td>\n",
       "      <td>...</td>\n",
       "      <td>...</td>\n",
       "      <td>...</td>\n",
       "      <td>...</td>\n",
       "      <td>...</td>\n",
       "      <td>...</td>\n",
       "      <td>...</td>\n",
       "      <td>...</td>\n",
       "      <td>...</td>\n",
       "      <td>...</td>\n",
       "      <td>...</td>\n",
       "      <td>...</td>\n",
       "      <td>...</td>\n",
       "    </tr>\n",
       "    <tr>\n",
       "      <th>90315</th>\n",
       "      <td>Accident</td>\n",
       "      <td>Non-Fatal</td>\n",
       "      <td>Substantial</td>\n",
       "      <td>Helicopter</td>\n",
       "      <td>HUGHES</td>\n",
       "      <td>369D</td>\n",
       "      <td>1.0</td>\n",
       "      <td>Unknown</td>\n",
       "      <td>Other Work Use</td>\n",
       "      <td>0.0</td>\n",
       "      <td>0.0</td>\n",
       "      <td>0.0</td>\n",
       "      <td>2.0</td>\n",
       "      <td>VMC</td>\n",
       "    </tr>\n",
       "    <tr>\n",
       "      <th>90317</th>\n",
       "      <td>Accident</td>\n",
       "      <td>Minor</td>\n",
       "      <td>Substantial</td>\n",
       "      <td>Airplane</td>\n",
       "      <td>PIPER</td>\n",
       "      <td>PA-44</td>\n",
       "      <td>2.0</td>\n",
       "      <td>Unknown</td>\n",
       "      <td>Personal</td>\n",
       "      <td>0.0</td>\n",
       "      <td>1.0</td>\n",
       "      <td>0.0</td>\n",
       "      <td>0.0</td>\n",
       "      <td>VMC</td>\n",
       "    </tr>\n",
       "    <tr>\n",
       "      <th>90318</th>\n",
       "      <td>Accident</td>\n",
       "      <td>Non-Fatal</td>\n",
       "      <td>Substantial</td>\n",
       "      <td>Airplane</td>\n",
       "      <td>ARADO-FLUGZEUGWERKE GMBH</td>\n",
       "      <td>FW190 A-5</td>\n",
       "      <td>1.0</td>\n",
       "      <td>Unknown</td>\n",
       "      <td>Personal</td>\n",
       "      <td>0.0</td>\n",
       "      <td>0.0</td>\n",
       "      <td>0.0</td>\n",
       "      <td>1.0</td>\n",
       "      <td>VMC</td>\n",
       "    </tr>\n",
       "    <tr>\n",
       "      <th>90332</th>\n",
       "      <td>Accident</td>\n",
       "      <td>Non-Fatal</td>\n",
       "      <td>Substantial</td>\n",
       "      <td>Airplane</td>\n",
       "      <td>CIRRUS DESIGN CORP</td>\n",
       "      <td>SR22</td>\n",
       "      <td>1.0</td>\n",
       "      <td>Unknown</td>\n",
       "      <td>Personal</td>\n",
       "      <td>0.0</td>\n",
       "      <td>0.0</td>\n",
       "      <td>0.0</td>\n",
       "      <td>1.0</td>\n",
       "      <td>VMC</td>\n",
       "    </tr>\n",
       "    <tr>\n",
       "      <th>90336</th>\n",
       "      <td>Accident</td>\n",
       "      <td>Minor</td>\n",
       "      <td>Substantial</td>\n",
       "      <td>Airplane</td>\n",
       "      <td>CESSNA</td>\n",
       "      <td>R172K</td>\n",
       "      <td>1.0</td>\n",
       "      <td>Unknown</td>\n",
       "      <td>Personal</td>\n",
       "      <td>0.0</td>\n",
       "      <td>1.0</td>\n",
       "      <td>0.0</td>\n",
       "      <td>0.0</td>\n",
       "      <td>VMC</td>\n",
       "    </tr>\n",
       "  </tbody>\n",
       "</table>\n",
       "<p>17872 rows × 14 columns</p>\n",
       "</div>"
      ],
      "text/plain": [
       "      Investigation.Type Injury.Severity Aircraft.damage Aircraft.Category  \\\n",
       "7               Accident       Non-Fatal     Substantial          Airplane   \n",
       "8               Accident       Non-Fatal     Substantial          Airplane   \n",
       "12              Accident       Non-Fatal       Destroyed          Airplane   \n",
       "13              Accident        Fatal(1)       Destroyed          Airplane   \n",
       "14              Accident        Fatal(1)       Destroyed          Airplane   \n",
       "...                  ...             ...             ...               ...   \n",
       "90315           Accident       Non-Fatal     Substantial        Helicopter   \n",
       "90317           Accident           Minor     Substantial          Airplane   \n",
       "90318           Accident       Non-Fatal     Substantial          Airplane   \n",
       "90332           Accident       Non-Fatal     Substantial          Airplane   \n",
       "90336           Accident           Minor     Substantial          Airplane   \n",
       "\n",
       "                           Make      Model  Number.of.Engines    Engine.Type  \\\n",
       "7                        Cessna        140                1.0  Reciprocating   \n",
       "8                        Cessna       401B                2.0  Reciprocating   \n",
       "12                     Bellanca     17-30A                1.0  Reciprocating   \n",
       "13                       Cessna      R172K                1.0  Reciprocating   \n",
       "14                       Navion          A                1.0  Reciprocating   \n",
       "...                         ...        ...                ...            ...   \n",
       "90315                    HUGHES       369D                1.0        Unknown   \n",
       "90317                     PIPER      PA-44                2.0        Unknown   \n",
       "90318  ARADO-FLUGZEUGWERKE GMBH  FW190 A-5                1.0        Unknown   \n",
       "90332        CIRRUS DESIGN CORP       SR22                1.0        Unknown   \n",
       "90336                    CESSNA      R172K                1.0        Unknown   \n",
       "\n",
       "      Purpose.of.flight  Total.Fatal.Injuries  Total.Serious.Injuries  \\\n",
       "7              Personal                   0.0                     0.0   \n",
       "8              Business                   0.0                     0.0   \n",
       "12             Personal                   0.0                     0.0   \n",
       "13             Personal                   1.0                     0.0   \n",
       "14             Personal                   1.0                     0.0   \n",
       "...                 ...                   ...                     ...   \n",
       "90315    Other Work Use                   0.0                     0.0   \n",
       "90317          Personal                   0.0                     1.0   \n",
       "90318          Personal                   0.0                     0.0   \n",
       "90332          Personal                   0.0                     0.0   \n",
       "90336          Personal                   0.0                     1.0   \n",
       "\n",
       "       Total.Minor.Injuries  Total.Uninjured Weather.Condition  \n",
       "7                       0.0              2.0               VMC  \n",
       "8                       0.0              2.0               IMC  \n",
       "12                      1.0              0.0               IMC  \n",
       "13                      0.0              0.0               IMC  \n",
       "14                      0.0              0.0               IMC  \n",
       "...                     ...              ...               ...  \n",
       "90315                   0.0              2.0               VMC  \n",
       "90317                   0.0              0.0               VMC  \n",
       "90318                   0.0              1.0               VMC  \n",
       "90332                   0.0              1.0               VMC  \n",
       "90336                   0.0              0.0               VMC  \n",
       "\n",
       "[17872 rows x 14 columns]"
      ]
     },
     "execution_count": 14,
     "metadata": {},
     "output_type": "execute_result"
    }
   ],
   "source": [
    "df = df.dropna()\n",
    "df"
   ]
  },
  {
   "cell_type": "markdown",
   "metadata": {},
   "source": [
    "Data with airplanes\n"
   ]
  },
  {
   "cell_type": "code",
   "execution_count": 15,
   "metadata": {},
   "outputs": [
    {
     "data": {
      "application/vnd.microsoft.datawrangler.viewer.v0+json": {
       "columns": [
        {
         "name": "index",
         "rawType": "object",
         "type": "string"
        },
        {
         "name": "Aircraft.Category",
         "rawType": "int64",
         "type": "integer"
        }
       ],
       "ref": "1b79bcc0-0efa-4cac-84f6-5accd1efb2af",
       "rows": [
        [
         "Airplane",
         "15068"
        ]
       ],
       "shape": {
        "columns": 1,
        "rows": 1
       }
      },
      "text/plain": [
       "Airplane    15068\n",
       "Name: Aircraft.Category, dtype: int64"
      ]
     },
     "execution_count": 15,
     "metadata": {},
     "output_type": "execute_result"
    }
   ],
   "source": [
    "df = df[df['Aircraft.Category'] == 'Airplane']\n",
    "df['Aircraft.Category'].value_counts()"
   ]
  },
  {
   "cell_type": "code",
   "execution_count": 16,
   "metadata": {},
   "outputs": [
    {
     "data": {
      "application/vnd.microsoft.datawrangler.viewer.v0+json": {
       "columns": [
        {
         "name": "index",
         "rawType": "int64",
         "type": "integer"
        },
        {
         "name": "Investigation.Type",
         "rawType": "object",
         "type": "string"
        },
        {
         "name": "Injury.Severity",
         "rawType": "object",
         "type": "string"
        },
        {
         "name": "Aircraft.damage",
         "rawType": "object",
         "type": "string"
        },
        {
         "name": "Aircraft.Category",
         "rawType": "object",
         "type": "string"
        },
        {
         "name": "Make",
         "rawType": "object",
         "type": "string"
        },
        {
         "name": "Model",
         "rawType": "object",
         "type": "string"
        },
        {
         "name": "Number.of.Engines",
         "rawType": "float64",
         "type": "float"
        },
        {
         "name": "Engine.Type",
         "rawType": "object",
         "type": "string"
        },
        {
         "name": "Purpose.of.flight",
         "rawType": "object",
         "type": "string"
        },
        {
         "name": "Total.Fatal.Injuries",
         "rawType": "float64",
         "type": "float"
        },
        {
         "name": "Total.Serious.Injuries",
         "rawType": "float64",
         "type": "float"
        },
        {
         "name": "Total.Minor.Injuries",
         "rawType": "float64",
         "type": "float"
        },
        {
         "name": "Total.Uninjured",
         "rawType": "float64",
         "type": "float"
        },
        {
         "name": "Weather.Condition",
         "rawType": "object",
         "type": "string"
        }
       ],
       "ref": "7ff8c497-96fc-4343-b44f-3ac60c8af323",
       "rows": [
        [
         "7",
         "Accident",
         "Non-Fatal",
         "Substantial",
         "Airplane",
         "Cessna",
         "140",
         "1.0",
         "Reciprocating",
         "Personal",
         "0.0",
         "0.0",
         "0.0",
         "2.0",
         "VMC"
        ],
        [
         "8",
         "Accident",
         "Non-Fatal",
         "Substantial",
         "Airplane",
         "Cessna",
         "401B",
         "2.0",
         "Reciprocating",
         "Business",
         "0.0",
         "0.0",
         "0.0",
         "2.0",
         "IMC"
        ],
        [
         "12",
         "Accident",
         "Non-Fatal",
         "Destroyed",
         "Airplane",
         "Bellanca",
         "17-30A",
         "1.0",
         "Reciprocating",
         "Personal",
         "0.0",
         "0.0",
         "1.0",
         "0.0",
         "IMC"
        ],
        [
         "13",
         "Accident",
         "Fatal(1)",
         "Destroyed",
         "Airplane",
         "Cessna",
         "R172K",
         "1.0",
         "Reciprocating",
         "Personal",
         "1.0",
         "0.0",
         "0.0",
         "0.0",
         "IMC"
        ],
        [
         "14",
         "Accident",
         "Fatal(1)",
         "Destroyed",
         "Airplane",
         "Navion",
         "A",
         "1.0",
         "Reciprocating",
         "Personal",
         "1.0",
         "0.0",
         "0.0",
         "0.0",
         "IMC"
        ],
        [
         "15",
         "Accident",
         "Fatal(2)",
         "Destroyed",
         "Airplane",
         "Beech",
         "19",
         "1.0",
         "Reciprocating",
         "Personal",
         "2.0",
         "0.0",
         "0.0",
         "0.0",
         "IMC"
        ],
        [
         "17",
         "Accident",
         "Fatal(3)",
         "Destroyed",
         "Airplane",
         "Cessna",
         "180",
         "1.0",
         "Reciprocating",
         "Personal",
         "3.0",
         "0.0",
         "0.0",
         "0.0",
         "VMC"
        ],
        [
         "18",
         "Accident",
         "Non-Fatal",
         "Substantial",
         "Airplane",
         "Cessna",
         "172",
         "1.0",
         "Reciprocating",
         "Personal",
         "0.0",
         "0.0",
         "0.0",
         "1.0",
         "VMC"
        ],
        [
         "20",
         "Accident",
         "Non-Fatal",
         "Substantial",
         "Airplane",
         "Cessna",
         "152",
         "1.0",
         "Reciprocating",
         "Instructional",
         "0.0",
         "0.0",
         "0.0",
         "1.0",
         "VMC"
        ],
        [
         "21",
         "Accident",
         "Non-Fatal",
         "Substantial",
         "Airplane",
         "Cessna",
         "150L",
         "1.0",
         "Reciprocating",
         "Personal",
         "0.0",
         "0.0",
         "0.0",
         "2.0",
         "VMC"
        ],
        [
         "23",
         "Incident",
         "Incident",
         "Minor",
         "Airplane",
         "Piper",
         "PA-24-180",
         "1.0",
         "Reciprocating",
         "Personal",
         "0.0",
         "0.0",
         "0.0",
         "1.0",
         "VMC"
        ],
        [
         "24",
         "Accident",
         "Fatal(2)",
         "Destroyed",
         "Airplane",
         "Grumman",
         "AA-5B",
         "1.0",
         "Reciprocating",
         "Personal",
         "2.0",
         "1.0",
         "0.0",
         "0.0",
         "IMC"
        ],
        [
         "25",
         "Accident",
         "Fatal(8)",
         "Destroyed",
         "Airplane",
         "Cessna",
         "414A",
         "2.0",
         "Reciprocating",
         "Business",
         "8.0",
         "0.0",
         "0.0",
         "0.0",
         "IMC"
        ],
        [
         "26",
         "Accident",
         "Fatal(1)",
         "Destroyed",
         "Airplane",
         "Beechcraft",
         "BE-58",
         "2.0",
         "Reciprocating",
         "Personal",
         "1.0",
         "0.0",
         "0.0",
         "0.0",
         "IMC"
        ],
        [
         "27",
         "Accident",
         "Non-Fatal",
         "Substantial",
         "Airplane",
         "Maule",
         "M-5-235C",
         "1.0",
         "Reciprocating",
         "Personal",
         "0.0",
         "0.0",
         "0.0",
         "2.0",
         "VMC"
        ],
        [
         "28",
         "Accident",
         "Non-Fatal",
         "Substantial",
         "Airplane",
         "Cessna",
         "210L",
         "1.0",
         "Reciprocating",
         "Personal",
         "0.0",
         "0.0",
         "1.0",
         "1.0",
         "VMC"
        ],
        [
         "29",
         "Accident",
         "Non-Fatal",
         "Substantial",
         "Airplane",
         "Bellanca",
         "7GCBC",
         "1.0",
         "Reciprocating",
         "Personal",
         "0.0",
         "0.0",
         "2.0",
         "0.0",
         "VMC"
        ],
        [
         "30",
         "Accident",
         "Non-Fatal",
         "Substantial",
         "Airplane",
         "Cessna",
         "182",
         "1.0",
         "Reciprocating",
         "Personal",
         "0.0",
         "0.0",
         "2.0",
         "0.0",
         "VMC"
        ],
        [
         "31",
         "Accident",
         "Non-Fatal",
         "Substantial",
         "Airplane",
         "Air Tractor",
         "AT-301",
         "1.0",
         "Reciprocating",
         "Ferry",
         "0.0",
         "0.0",
         "0.0",
         "1.0",
         "VMC"
        ],
        [
         "32",
         "Accident",
         "Fatal(4)",
         "Destroyed",
         "Airplane",
         "Piper",
         "PA-28-161",
         "1.0",
         "Reciprocating",
         "Personal",
         "4.0",
         "0.0",
         "0.0",
         "0.0",
         "VMC"
        ],
        [
         "33",
         "Accident",
         "Fatal(2)",
         "Destroyed",
         "Airplane",
         "Piper",
         "PA-34-200T",
         "2.0",
         "Reciprocating",
         "Unknown",
         "2.0",
         "0.0",
         "0.0",
         "0.0",
         "VMC"
        ],
        [
         "34",
         "Accident",
         "Fatal(2)",
         "Destroyed",
         "Airplane",
         "Cessna",
         "T337G",
         "2.0",
         "Reciprocating",
         "Personal",
         "2.0",
         "2.0",
         "0.0",
         "0.0",
         "IMC"
        ],
        [
         "35",
         "Accident",
         "Non-Fatal",
         "Substantial",
         "Airplane",
         "Piper",
         "PA-28R-200",
         "1.0",
         "Reciprocating",
         "Personal",
         "0.0",
         "0.0",
         "2.0",
         "0.0",
         "VMC"
        ],
        [
         "36",
         "Accident",
         "Fatal(1)",
         "Destroyed",
         "Airplane",
         "Cessna",
         "206",
         "1.0",
         "Reciprocating",
         "Business",
         "1.0",
         "0.0",
         "1.0",
         "0.0",
         "VMC"
        ],
        [
         "37",
         "Accident",
         "Fatal(3)",
         "Destroyed",
         "Airplane",
         "Navion",
         "A",
         "1.0",
         "Reciprocating",
         "Business",
         "3.0",
         "0.0",
         "0.0",
         "0.0",
         "IMC"
        ],
        [
         "38",
         "Accident",
         "Fatal(1)",
         "Destroyed",
         "Airplane",
         "Piper",
         "PA-22",
         "1.0",
         "Reciprocating",
         "Personal",
         "1.0",
         "0.0",
         "0.0",
         "0.0",
         "IMC"
        ],
        [
         "39",
         "Accident",
         "Fatal(2)",
         "Destroyed",
         "Airplane",
         "Piper",
         "PA-31",
         "2.0",
         "Reciprocating",
         "Unknown",
         "2.0",
         "0.0",
         "0.0",
         "0.0",
         "VMC"
        ],
        [
         "40",
         "Incident",
         "Incident",
         "Minor",
         "Airplane",
         "Rockwell",
         "114",
         "1.0",
         "Reciprocating",
         "Business",
         "0.0",
         "0.0",
         "0.0",
         "1.0",
         "VMC"
        ],
        [
         "41",
         "Accident",
         "Non-Fatal",
         "Substantial",
         "Airplane",
         "Piper",
         "PA-24-250",
         "1.0",
         "Reciprocating",
         "Business",
         "0.0",
         "1.0",
         "0.0",
         "1.0",
         "VMC"
        ],
        [
         "42",
         "Accident",
         "Non-Fatal",
         "Substantial",
         "Airplane",
         "Piper",
         "PA-28R-200",
         "1.0",
         "Reciprocating",
         "Ferry",
         "0.0",
         "0.0",
         "0.0",
         "1.0",
         "VMC"
        ],
        [
         "43",
         "Accident",
         "Non-Fatal",
         "Substantial",
         "Airplane",
         "Cessna",
         "TR182",
         "1.0",
         "Reciprocating",
         "Unknown",
         "0.0",
         "0.0",
         "0.0",
         "1.0",
         "VMC"
        ],
        [
         "44",
         "Accident",
         "Non-Fatal",
         "Substantial",
         "Airplane",
         "Cessna",
         "A185F",
         "1.0",
         "Reciprocating",
         "Unknown",
         "0.0",
         "2.0",
         "0.0",
         "0.0",
         "VMC"
        ],
        [
         "45",
         "Accident",
         "Non-Fatal",
         "Substantial",
         "Airplane",
         "Cessna",
         "340",
         "2.0",
         "Reciprocating",
         "Executive/corporate",
         "0.0",
         "0.0",
         "0.0",
         "3.0",
         "VMC"
        ],
        [
         "47",
         "Accident",
         "Non-Fatal",
         "Substantial",
         "Airplane",
         "Beech",
         "35",
         "1.0",
         "Reciprocating",
         "Personal",
         "0.0",
         "0.0",
         "0.0",
         "3.0",
         "VMC"
        ],
        [
         "48",
         "Accident",
         "Non-Fatal",
         "Substantial",
         "Airplane",
         "Cessna",
         "152",
         "1.0",
         "Reciprocating",
         "Instructional",
         "0.0",
         "0.0",
         "0.0",
         "2.0",
         "VMC"
        ],
        [
         "49",
         "Accident",
         "Non-Fatal",
         "Substantial",
         "Airplane",
         "Mooney",
         "M-20J",
         "1.0",
         "Reciprocating",
         "Business",
         "0.0",
         "0.0",
         "0.0",
         "2.0",
         "VMC"
        ],
        [
         "50",
         "Accident",
         "Non-Fatal",
         "Substantial",
         "Airplane",
         "Boeing",
         "A75",
         "1.0",
         "Reciprocating",
         "Unknown",
         "0.0",
         "1.0",
         "0.0",
         "1.0",
         "IMC"
        ],
        [
         "51",
         "Accident",
         "Fatal(2)",
         "Destroyed",
         "Airplane",
         "Cessna",
         "210",
         "1.0",
         "Reciprocating",
         "Unknown",
         "2.0",
         "0.0",
         "0.0",
         "0.0",
         "VMC"
        ],
        [
         "52",
         "Accident",
         "Non-Fatal",
         "Substantial",
         "Airplane",
         "Beech",
         "V35",
         "1.0",
         "Reciprocating",
         "Personal",
         "0.0",
         "0.0",
         "0.0",
         "1.0",
         "VMC"
        ],
        [
         "53",
         "Accident",
         "Non-Fatal",
         "Substantial",
         "Airplane",
         "Curtis",
         "C46",
         "2.0",
         "Reciprocating",
         "Unknown",
         "0.0",
         "0.0",
         "0.0",
         "3.0",
         "VMC"
        ],
        [
         "54",
         "Accident",
         "Fatal(1)",
         "Destroyed",
         "Airplane",
         "Cessna",
         "172M",
         "1.0",
         "Reciprocating",
         "Personal",
         "1.0",
         "0.0",
         "0.0",
         "0.0",
         "IMC"
        ],
        [
         "55",
         "Accident",
         "Fatal(1)",
         "Destroyed",
         "Airplane",
         "Piper",
         "PA-28-140",
         "1.0",
         "Reciprocating",
         "Personal",
         "1.0",
         "1.0",
         "0.0",
         "0.0",
         "VMC"
        ],
        [
         "56",
         "Accident",
         "Non-Fatal",
         "Substantial",
         "Airplane",
         "Cessna",
         "TU206G",
         "1.0",
         "Reciprocating",
         "Business",
         "0.0",
         "0.0",
         "0.0",
         "1.0",
         "VMC"
        ],
        [
         "58",
         "Accident",
         "Non-Fatal",
         "Substantial",
         "Airplane",
         "Piper",
         "PA-24-250",
         "1.0",
         "Reciprocating",
         "Instructional",
         "0.0",
         "0.0",
         "0.0",
         "2.0",
         "VMC"
        ],
        [
         "60",
         "Accident",
         "Non-Fatal",
         "Substantial",
         "Airplane",
         "Cessna",
         "172N",
         "1.0",
         "Reciprocating",
         "Personal",
         "0.0",
         "0.0",
         "0.0",
         "2.0",
         "VMC"
        ],
        [
         "63",
         "Accident",
         "Non-Fatal",
         "Substantial",
         "Airplane",
         "Cessna",
         "P210N",
         "1.0",
         "Reciprocating",
         "Personal",
         "0.0",
         "1.0",
         "0.0",
         "3.0",
         "VMC"
        ],
        [
         "64",
         "Accident",
         "Non-Fatal",
         "Substantial",
         "Airplane",
         "Cessna",
         "172",
         "1.0",
         "Reciprocating",
         "Personal",
         "0.0",
         "0.0",
         "0.0",
         "2.0",
         "VMC"
        ],
        [
         "65",
         "Accident",
         "Non-Fatal",
         "Substantial",
         "Airplane",
         "Piper",
         "PA-34",
         "2.0",
         "Reciprocating",
         "Personal",
         "0.0",
         "0.0",
         "0.0",
         "3.0",
         "VMC"
        ],
        [
         "66",
         "Accident",
         "Non-Fatal",
         "Substantial",
         "Airplane",
         "Cessna",
         "305 (L-19)",
         "1.0",
         "Reciprocating",
         "Unknown",
         "0.0",
         "0.0",
         "0.0",
         "2.0",
         "VMC"
        ],
        [
         "67",
         "Accident",
         "Non-Fatal",
         "Substantial",
         "Airplane",
         "Cessna",
         "182A",
         "1.0",
         "Reciprocating",
         "Unknown",
         "0.0",
         "0.0",
         "0.0",
         "1.0",
         "VMC"
        ]
       ],
       "shape": {
        "columns": 14,
        "rows": 15068
       }
      },
      "text/html": [
       "<div>\n",
       "<style scoped>\n",
       "    .dataframe tbody tr th:only-of-type {\n",
       "        vertical-align: middle;\n",
       "    }\n",
       "\n",
       "    .dataframe tbody tr th {\n",
       "        vertical-align: top;\n",
       "    }\n",
       "\n",
       "    .dataframe thead th {\n",
       "        text-align: right;\n",
       "    }\n",
       "</style>\n",
       "<table border=\"1\" class=\"dataframe\">\n",
       "  <thead>\n",
       "    <tr style=\"text-align: right;\">\n",
       "      <th></th>\n",
       "      <th>Investigation.Type</th>\n",
       "      <th>Injury.Severity</th>\n",
       "      <th>Aircraft.damage</th>\n",
       "      <th>Aircraft.Category</th>\n",
       "      <th>Make</th>\n",
       "      <th>Model</th>\n",
       "      <th>Number.of.Engines</th>\n",
       "      <th>Engine.Type</th>\n",
       "      <th>Purpose.of.flight</th>\n",
       "      <th>Total.Fatal.Injuries</th>\n",
       "      <th>Total.Serious.Injuries</th>\n",
       "      <th>Total.Minor.Injuries</th>\n",
       "      <th>Total.Uninjured</th>\n",
       "      <th>Weather.Condition</th>\n",
       "    </tr>\n",
       "  </thead>\n",
       "  <tbody>\n",
       "    <tr>\n",
       "      <th>7</th>\n",
       "      <td>Accident</td>\n",
       "      <td>Non-Fatal</td>\n",
       "      <td>Substantial</td>\n",
       "      <td>Airplane</td>\n",
       "      <td>Cessna</td>\n",
       "      <td>140</td>\n",
       "      <td>1.0</td>\n",
       "      <td>Reciprocating</td>\n",
       "      <td>Personal</td>\n",
       "      <td>0.0</td>\n",
       "      <td>0.0</td>\n",
       "      <td>0.0</td>\n",
       "      <td>2.0</td>\n",
       "      <td>VMC</td>\n",
       "    </tr>\n",
       "    <tr>\n",
       "      <th>8</th>\n",
       "      <td>Accident</td>\n",
       "      <td>Non-Fatal</td>\n",
       "      <td>Substantial</td>\n",
       "      <td>Airplane</td>\n",
       "      <td>Cessna</td>\n",
       "      <td>401B</td>\n",
       "      <td>2.0</td>\n",
       "      <td>Reciprocating</td>\n",
       "      <td>Business</td>\n",
       "      <td>0.0</td>\n",
       "      <td>0.0</td>\n",
       "      <td>0.0</td>\n",
       "      <td>2.0</td>\n",
       "      <td>IMC</td>\n",
       "    </tr>\n",
       "    <tr>\n",
       "      <th>12</th>\n",
       "      <td>Accident</td>\n",
       "      <td>Non-Fatal</td>\n",
       "      <td>Destroyed</td>\n",
       "      <td>Airplane</td>\n",
       "      <td>Bellanca</td>\n",
       "      <td>17-30A</td>\n",
       "      <td>1.0</td>\n",
       "      <td>Reciprocating</td>\n",
       "      <td>Personal</td>\n",
       "      <td>0.0</td>\n",
       "      <td>0.0</td>\n",
       "      <td>1.0</td>\n",
       "      <td>0.0</td>\n",
       "      <td>IMC</td>\n",
       "    </tr>\n",
       "    <tr>\n",
       "      <th>13</th>\n",
       "      <td>Accident</td>\n",
       "      <td>Fatal(1)</td>\n",
       "      <td>Destroyed</td>\n",
       "      <td>Airplane</td>\n",
       "      <td>Cessna</td>\n",
       "      <td>R172K</td>\n",
       "      <td>1.0</td>\n",
       "      <td>Reciprocating</td>\n",
       "      <td>Personal</td>\n",
       "      <td>1.0</td>\n",
       "      <td>0.0</td>\n",
       "      <td>0.0</td>\n",
       "      <td>0.0</td>\n",
       "      <td>IMC</td>\n",
       "    </tr>\n",
       "    <tr>\n",
       "      <th>14</th>\n",
       "      <td>Accident</td>\n",
       "      <td>Fatal(1)</td>\n",
       "      <td>Destroyed</td>\n",
       "      <td>Airplane</td>\n",
       "      <td>Navion</td>\n",
       "      <td>A</td>\n",
       "      <td>1.0</td>\n",
       "      <td>Reciprocating</td>\n",
       "      <td>Personal</td>\n",
       "      <td>1.0</td>\n",
       "      <td>0.0</td>\n",
       "      <td>0.0</td>\n",
       "      <td>0.0</td>\n",
       "      <td>IMC</td>\n",
       "    </tr>\n",
       "    <tr>\n",
       "      <th>...</th>\n",
       "      <td>...</td>\n",
       "      <td>...</td>\n",
       "      <td>...</td>\n",
       "      <td>...</td>\n",
       "      <td>...</td>\n",
       "      <td>...</td>\n",
       "      <td>...</td>\n",
       "      <td>...</td>\n",
       "      <td>...</td>\n",
       "      <td>...</td>\n",
       "      <td>...</td>\n",
       "      <td>...</td>\n",
       "      <td>...</td>\n",
       "      <td>...</td>\n",
       "    </tr>\n",
       "    <tr>\n",
       "      <th>90307</th>\n",
       "      <td>Accident</td>\n",
       "      <td>Minor</td>\n",
       "      <td>Substantial</td>\n",
       "      <td>Airplane</td>\n",
       "      <td>ORLICAN S R O</td>\n",
       "      <td>M-8 EAGLE</td>\n",
       "      <td>1.0</td>\n",
       "      <td>Unknown</td>\n",
       "      <td>Personal</td>\n",
       "      <td>0.0</td>\n",
       "      <td>2.0</td>\n",
       "      <td>0.0</td>\n",
       "      <td>0.0</td>\n",
       "      <td>VMC</td>\n",
       "    </tr>\n",
       "    <tr>\n",
       "      <th>90317</th>\n",
       "      <td>Accident</td>\n",
       "      <td>Minor</td>\n",
       "      <td>Substantial</td>\n",
       "      <td>Airplane</td>\n",
       "      <td>PIPER</td>\n",
       "      <td>PA-44</td>\n",
       "      <td>2.0</td>\n",
       "      <td>Unknown</td>\n",
       "      <td>Personal</td>\n",
       "      <td>0.0</td>\n",
       "      <td>1.0</td>\n",
       "      <td>0.0</td>\n",
       "      <td>0.0</td>\n",
       "      <td>VMC</td>\n",
       "    </tr>\n",
       "    <tr>\n",
       "      <th>90318</th>\n",
       "      <td>Accident</td>\n",
       "      <td>Non-Fatal</td>\n",
       "      <td>Substantial</td>\n",
       "      <td>Airplane</td>\n",
       "      <td>ARADO-FLUGZEUGWERKE GMBH</td>\n",
       "      <td>FW190 A-5</td>\n",
       "      <td>1.0</td>\n",
       "      <td>Unknown</td>\n",
       "      <td>Personal</td>\n",
       "      <td>0.0</td>\n",
       "      <td>0.0</td>\n",
       "      <td>0.0</td>\n",
       "      <td>1.0</td>\n",
       "      <td>VMC</td>\n",
       "    </tr>\n",
       "    <tr>\n",
       "      <th>90332</th>\n",
       "      <td>Accident</td>\n",
       "      <td>Non-Fatal</td>\n",
       "      <td>Substantial</td>\n",
       "      <td>Airplane</td>\n",
       "      <td>CIRRUS DESIGN CORP</td>\n",
       "      <td>SR22</td>\n",
       "      <td>1.0</td>\n",
       "      <td>Unknown</td>\n",
       "      <td>Personal</td>\n",
       "      <td>0.0</td>\n",
       "      <td>0.0</td>\n",
       "      <td>0.0</td>\n",
       "      <td>1.0</td>\n",
       "      <td>VMC</td>\n",
       "    </tr>\n",
       "    <tr>\n",
       "      <th>90336</th>\n",
       "      <td>Accident</td>\n",
       "      <td>Minor</td>\n",
       "      <td>Substantial</td>\n",
       "      <td>Airplane</td>\n",
       "      <td>CESSNA</td>\n",
       "      <td>R172K</td>\n",
       "      <td>1.0</td>\n",
       "      <td>Unknown</td>\n",
       "      <td>Personal</td>\n",
       "      <td>0.0</td>\n",
       "      <td>1.0</td>\n",
       "      <td>0.0</td>\n",
       "      <td>0.0</td>\n",
       "      <td>VMC</td>\n",
       "    </tr>\n",
       "  </tbody>\n",
       "</table>\n",
       "<p>15068 rows × 14 columns</p>\n",
       "</div>"
      ],
      "text/plain": [
       "      Investigation.Type Injury.Severity Aircraft.damage Aircraft.Category  \\\n",
       "7               Accident       Non-Fatal     Substantial          Airplane   \n",
       "8               Accident       Non-Fatal     Substantial          Airplane   \n",
       "12              Accident       Non-Fatal       Destroyed          Airplane   \n",
       "13              Accident        Fatal(1)       Destroyed          Airplane   \n",
       "14              Accident        Fatal(1)       Destroyed          Airplane   \n",
       "...                  ...             ...             ...               ...   \n",
       "90307           Accident           Minor     Substantial          Airplane   \n",
       "90317           Accident           Minor     Substantial          Airplane   \n",
       "90318           Accident       Non-Fatal     Substantial          Airplane   \n",
       "90332           Accident       Non-Fatal     Substantial          Airplane   \n",
       "90336           Accident           Minor     Substantial          Airplane   \n",
       "\n",
       "                           Make      Model  Number.of.Engines    Engine.Type  \\\n",
       "7                        Cessna        140                1.0  Reciprocating   \n",
       "8                        Cessna       401B                2.0  Reciprocating   \n",
       "12                     Bellanca     17-30A                1.0  Reciprocating   \n",
       "13                       Cessna      R172K                1.0  Reciprocating   \n",
       "14                       Navion          A                1.0  Reciprocating   \n",
       "...                         ...        ...                ...            ...   \n",
       "90307             ORLICAN S R O  M-8 EAGLE                1.0        Unknown   \n",
       "90317                     PIPER      PA-44                2.0        Unknown   \n",
       "90318  ARADO-FLUGZEUGWERKE GMBH  FW190 A-5                1.0        Unknown   \n",
       "90332        CIRRUS DESIGN CORP       SR22                1.0        Unknown   \n",
       "90336                    CESSNA      R172K                1.0        Unknown   \n",
       "\n",
       "      Purpose.of.flight  Total.Fatal.Injuries  Total.Serious.Injuries  \\\n",
       "7              Personal                   0.0                     0.0   \n",
       "8              Business                   0.0                     0.0   \n",
       "12             Personal                   0.0                     0.0   \n",
       "13             Personal                   1.0                     0.0   \n",
       "14             Personal                   1.0                     0.0   \n",
       "...                 ...                   ...                     ...   \n",
       "90307          Personal                   0.0                     2.0   \n",
       "90317          Personal                   0.0                     1.0   \n",
       "90318          Personal                   0.0                     0.0   \n",
       "90332          Personal                   0.0                     0.0   \n",
       "90336          Personal                   0.0                     1.0   \n",
       "\n",
       "       Total.Minor.Injuries  Total.Uninjured Weather.Condition  \n",
       "7                       0.0              2.0               VMC  \n",
       "8                       0.0              2.0               IMC  \n",
       "12                      1.0              0.0               IMC  \n",
       "13                      0.0              0.0               IMC  \n",
       "14                      0.0              0.0               IMC  \n",
       "...                     ...              ...               ...  \n",
       "90307                   0.0              0.0               VMC  \n",
       "90317                   0.0              0.0               VMC  \n",
       "90318                   0.0              1.0               VMC  \n",
       "90332                   0.0              1.0               VMC  \n",
       "90336                   0.0              0.0               VMC  \n",
       "\n",
       "[15068 rows x 14 columns]"
      ]
     },
     "execution_count": 16,
     "metadata": {},
     "output_type": "execute_result"
    }
   ],
   "source": [
    "df = df[df['Aircraft.Category'] == 'Airplane']\n",
    "df\n"
   ]
  },
  {
   "cell_type": "markdown",
   "metadata": {},
   "source": [
    "Basic statistical properties of the Aviation data"
   ]
  },
  {
   "cell_type": "code",
   "execution_count": 17,
   "metadata": {},
   "outputs": [
    {
     "data": {
      "application/vnd.microsoft.datawrangler.viewer.v0+json": {
       "columns": [
        {
         "name": "index",
         "rawType": "object",
         "type": "string"
        },
        {
         "name": "Number.of.Engines",
         "rawType": "float64",
         "type": "float"
        },
        {
         "name": "Total.Fatal.Injuries",
         "rawType": "float64",
         "type": "float"
        },
        {
         "name": "Total.Serious.Injuries",
         "rawType": "float64",
         "type": "float"
        },
        {
         "name": "Total.Minor.Injuries",
         "rawType": "float64",
         "type": "float"
        },
        {
         "name": "Total.Uninjured",
         "rawType": "float64",
         "type": "float"
        }
       ],
       "ref": "f1c19862-710b-477c-826a-c40dceb16506",
       "rows": [
        [
         "count",
         "15068.0",
         "15068.0",
         "15068.0",
         "15068.0",
         "15068.0"
        ],
        [
         "mean",
         "1.1724847358640829",
         "0.4336341916644545",
         "0.3312317494027077",
         "0.24349615078311654",
         "4.77428988585081"
        ],
        [
         "std",
         "0.41015775847602004",
         "1.4944119311916326",
         "1.9275009713632218",
         "0.8633144167825032",
         "25.785612534098608"
        ],
        [
         "min",
         "0.0",
         "0.0",
         "0.0",
         "0.0",
         "0.0"
        ],
        [
         "25%",
         "1.0",
         "0.0",
         "0.0",
         "0.0",
         "0.0"
        ],
        [
         "50%",
         "1.0",
         "0.0",
         "0.0",
         "0.0",
         "1.0"
        ],
        [
         "75%",
         "1.0",
         "0.0",
         "0.0",
         "0.0",
         "2.0"
        ],
        [
         "max",
         "8.0",
         "90.0",
         "137.0",
         "50.0",
         "576.0"
        ]
       ],
       "shape": {
        "columns": 5,
        "rows": 8
       }
      },
      "text/html": [
       "<div>\n",
       "<style scoped>\n",
       "    .dataframe tbody tr th:only-of-type {\n",
       "        vertical-align: middle;\n",
       "    }\n",
       "\n",
       "    .dataframe tbody tr th {\n",
       "        vertical-align: top;\n",
       "    }\n",
       "\n",
       "    .dataframe thead th {\n",
       "        text-align: right;\n",
       "    }\n",
       "</style>\n",
       "<table border=\"1\" class=\"dataframe\">\n",
       "  <thead>\n",
       "    <tr style=\"text-align: right;\">\n",
       "      <th></th>\n",
       "      <th>Number.of.Engines</th>\n",
       "      <th>Total.Fatal.Injuries</th>\n",
       "      <th>Total.Serious.Injuries</th>\n",
       "      <th>Total.Minor.Injuries</th>\n",
       "      <th>Total.Uninjured</th>\n",
       "    </tr>\n",
       "  </thead>\n",
       "  <tbody>\n",
       "    <tr>\n",
       "      <th>count</th>\n",
       "      <td>15068.000000</td>\n",
       "      <td>15068.000000</td>\n",
       "      <td>15068.000000</td>\n",
       "      <td>15068.000000</td>\n",
       "      <td>15068.000000</td>\n",
       "    </tr>\n",
       "    <tr>\n",
       "      <th>mean</th>\n",
       "      <td>1.172485</td>\n",
       "      <td>0.433634</td>\n",
       "      <td>0.331232</td>\n",
       "      <td>0.243496</td>\n",
       "      <td>4.774290</td>\n",
       "    </tr>\n",
       "    <tr>\n",
       "      <th>std</th>\n",
       "      <td>0.410158</td>\n",
       "      <td>1.494412</td>\n",
       "      <td>1.927501</td>\n",
       "      <td>0.863314</td>\n",
       "      <td>25.785613</td>\n",
       "    </tr>\n",
       "    <tr>\n",
       "      <th>min</th>\n",
       "      <td>0.000000</td>\n",
       "      <td>0.000000</td>\n",
       "      <td>0.000000</td>\n",
       "      <td>0.000000</td>\n",
       "      <td>0.000000</td>\n",
       "    </tr>\n",
       "    <tr>\n",
       "      <th>25%</th>\n",
       "      <td>1.000000</td>\n",
       "      <td>0.000000</td>\n",
       "      <td>0.000000</td>\n",
       "      <td>0.000000</td>\n",
       "      <td>0.000000</td>\n",
       "    </tr>\n",
       "    <tr>\n",
       "      <th>50%</th>\n",
       "      <td>1.000000</td>\n",
       "      <td>0.000000</td>\n",
       "      <td>0.000000</td>\n",
       "      <td>0.000000</td>\n",
       "      <td>1.000000</td>\n",
       "    </tr>\n",
       "    <tr>\n",
       "      <th>75%</th>\n",
       "      <td>1.000000</td>\n",
       "      <td>0.000000</td>\n",
       "      <td>0.000000</td>\n",
       "      <td>0.000000</td>\n",
       "      <td>2.000000</td>\n",
       "    </tr>\n",
       "    <tr>\n",
       "      <th>max</th>\n",
       "      <td>8.000000</td>\n",
       "      <td>90.000000</td>\n",
       "      <td>137.000000</td>\n",
       "      <td>50.000000</td>\n",
       "      <td>576.000000</td>\n",
       "    </tr>\n",
       "  </tbody>\n",
       "</table>\n",
       "</div>"
      ],
      "text/plain": [
       "       Number.of.Engines  Total.Fatal.Injuries  Total.Serious.Injuries  \\\n",
       "count       15068.000000          15068.000000            15068.000000   \n",
       "mean            1.172485              0.433634                0.331232   \n",
       "std             0.410158              1.494412                1.927501   \n",
       "min             0.000000              0.000000                0.000000   \n",
       "25%             1.000000              0.000000                0.000000   \n",
       "50%             1.000000              0.000000                0.000000   \n",
       "75%             1.000000              0.000000                0.000000   \n",
       "max             8.000000             90.000000              137.000000   \n",
       "\n",
       "       Total.Minor.Injuries  Total.Uninjured  \n",
       "count          15068.000000     15068.000000  \n",
       "mean               0.243496         4.774290  \n",
       "std                0.863314        25.785613  \n",
       "min                0.000000         0.000000  \n",
       "25%                0.000000         0.000000  \n",
       "50%                0.000000         1.000000  \n",
       "75%                0.000000         2.000000  \n",
       "max               50.000000       576.000000  "
      ]
     },
     "execution_count": 17,
     "metadata": {},
     "output_type": "execute_result"
    }
   ],
   "source": [
    "df.describe()"
   ]
  },
  {
   "cell_type": "markdown",
   "metadata": {},
   "source": [
    "Understanding the distribution"
   ]
  },
  {
   "cell_type": "code",
   "execution_count": 18,
   "metadata": {},
   "outputs": [
    {
     "data": {
      "image/png": "[encoded data removed]",
      "text/plain": [
       "<Figure size 432x288 with 1 Axes>"
      ]
     },
     "metadata": {
      "needs_background": "light"
     },
     "output_type": "display_data"
    },
    {
     "data": {
      "image/png": "[encoded data removed]",
      "text/plain": [
       "<Figure size 432x288 with 1 Axes>"
      ]
     },
     "metadata": {
      "needs_background": "light"
     },
     "output_type": "display_data"
    },
    {
     "data": {
      "image/png": "[encoded data removed]",
      "text/plain": [
       "<Figure size 432x288 with 1 Axes>"
      ]
     },
     "metadata": {
      "needs_background": "light"
     },
     "output_type": "display_data"
    },
    {
     "data": {
      "image/png": "[encoded data removed]",
      "text/plain": [
       "<Figure size 432x288 with 1 Axes>"
      ]
     },
     "metadata": {
      "needs_background": "light"
     },
     "output_type": "display_data"
    },
    {
     "data": {
      "image/png": "[encoded data removed]",
      "text/plain": [
       "<Figure size 432x288 with 1 Axes>"
      ]
     },
     "metadata": {
      "needs_background": "light"
     },
     "output_type": "display_data"
    }
   ],
   "source": [
    "for i in df.select_dtypes(include=\"number\").columns:\n",
    "                          sns.histplot(data=df,x=i)\n",
    "                          plt.show()"
   ]
  },
  {
   "cell_type": "code",
   "execution_count": 19,
   "metadata": {},
   "outputs": [
    {
     "data": {
      "image/png": "[encoded data removed]",
      "text/plain": [
       "<Figure size 432x288 with 1 Axes>"
      ]
     },
     "metadata": {
      "needs_background": "light"
     },
     "output_type": "display_data"
    },
    {
     "data": {
      "image/png": "[encoded data removed]",
      "text/plain": [
       "<Figure size 432x288 with 1 Axes>"
      ]
     },
     "metadata": {
      "needs_background": "light"
     },
     "output_type": "display_data"
    },
    {
     "data": {
      "image/png": "[encoded data removed]",
      "text/plain": [
       "<Figure size 432x288 with 1 Axes>"
      ]
     },
     "metadata": {
      "needs_background": "light"
     },
     "output_type": "display_data"
    },
    {
     "data": {
      "image/png": "[encoded data removed]",
      "text/plain": [
       "<Figure size 432x288 with 1 Axes>"
      ]
     },
     "metadata": {
      "needs_background": "light"
     },
     "output_type": "display_data"
    },
    {
     "data": {
      "image/png": "[encoded data removed]",
      "text/plain": [
       "<Figure size 432x288 with 1 Axes>"
      ]
     },
     "metadata": {
      "needs_background": "light"
     },
     "output_type": "display_data"
    }
   ],
   "source": [
    "for i in df.select_dtypes(include=\"number\").columns:\n",
    "                          sns.boxplot(data=df,x=i)\n",
    "                          plt.show()"
   ]
  },
  {
   "cell_type": "markdown",
   "metadata": {},
   "source": [
    "Most common use of flight"
   ]
  },
  {
   "cell_type": "code",
   "execution_count": 20,
   "metadata": {},
   "outputs": [
    {
     "data": {
      "application/vnd.microsoft.datawrangler.viewer.v0+json": {
       "columns": [
        {
         "name": "index",
         "rawType": "object",
         "type": "string"
        },
        {
         "name": "Purpose.of.flight",
         "rawType": "int64",
         "type": "integer"
        }
       ],
       "ref": "a23fb93e-038e-4996-93cd-b24143359025",
       "rows": [
        [
         "Personal",
         "9564"
        ],
        [
         "Instructional",
         "1521"
        ],
        [
         "Unknown",
         "1482"
        ],
        [
         "Business",
         "642"
        ],
        [
         "Aerial Application",
         "520"
        ]
       ],
       "shape": {
        "columns": 1,
        "rows": 5
       }
      },
      "text/plain": [
       "Personal              9564\n",
       "Instructional         1521\n",
       "Unknown               1482\n",
       "Business               642\n",
       "Aerial Application     520\n",
       "Name: Purpose.of.flight, dtype: int64"
      ]
     },
     "execution_count": 20,
     "metadata": {},
     "output_type": "execute_result"
    }
   ],
   "source": [
    "df['Purpose.of.flight'].value_counts().head()"
   ]
  },
  {
   "cell_type": "markdown",
   "metadata": {},
   "source": [
    "Flights have the highest average fatalities"
   ]
  },
  {
   "cell_type": "code",
   "execution_count": 21,
   "metadata": {},
   "outputs": [
    {
     "data": {
      "application/vnd.microsoft.datawrangler.viewer.v0+json": {
       "columns": [
        {
         "name": "Purpose.of.flight",
         "rawType": "object",
         "type": "string"
        },
        {
         "name": "Total.Fatal.Injuries",
         "rawType": "float64",
         "type": "float"
        }
       ],
       "ref": "be3f2945-87b4-4e9c-841c-cc0507c6a043",
       "rows": [
        [
         "ASHO",
         "2.3333333333333335"
        ],
        [
         "Aerial Application",
         "0.1673076923076923"
        ],
        [
         "Aerial Observation",
         "0.5193798449612403"
        ],
        [
         "Air Drop",
         "0.0"
        ],
        [
         "Air Race show",
         "0.43103448275862066"
        ],
        [
         "Banner Tow",
         "0.19696969696969696"
        ],
        [
         "Business",
         "0.48753894080996885"
        ],
        [
         "Executive/corporate",
         "0.5967741935483871"
        ],
        [
         "Ferry",
         "0.2206896551724138"
        ],
        [
         "Firefighting",
         "0.6153846153846154"
        ],
        [
         "Flight Test",
         "0.27419354838709675"
        ],
        [
         "Glider Tow",
         "0.3"
        ],
        [
         "Instructional",
         "0.25443786982248523"
        ],
        [
         "Other Work Use",
         "0.5080645161290323"
        ],
        [
         "PUBS",
         "0.0"
        ],
        [
         "Personal",
         "0.4483479715600167"
        ],
        [
         "Positioning",
         "0.30943396226415093"
        ],
        [
         "Public Aircraft",
         "0.4444444444444444"
        ],
        [
         "Public Aircraft - Federal",
         "0.23404255319148937"
        ],
        [
         "Public Aircraft - Local",
         "0.36363636363636365"
        ],
        [
         "Public Aircraft - State",
         "0.1"
        ],
        [
         "Skydiving",
         "0.45121951219512196"
        ],
        [
         "Unknown",
         "0.6443994601889339"
        ]
       ],
       "shape": {
        "columns": 1,
        "rows": 23
       }
      },
      "text/plain": [
       "Purpose.of.flight\n",
       "ASHO                         2.333333\n",
       "Aerial Application           0.167308\n",
       "Aerial Observation           0.519380\n",
       "Air Drop                     0.000000\n",
       "Air Race show                0.431034\n",
       "Banner Tow                   0.196970\n",
       "Business                     0.487539\n",
       "Executive/corporate          0.596774\n",
       "Ferry                        0.220690\n",
       "Firefighting                 0.615385\n",
       "Flight Test                  0.274194\n",
       "Glider Tow                   0.300000\n",
       "Instructional                0.254438\n",
       "Other Work Use               0.508065\n",
       "PUBS                         0.000000\n",
       "Personal                     0.448348\n",
       "Positioning                  0.309434\n",
       "Public Aircraft              0.444444\n",
       "Public Aircraft - Federal    0.234043\n",
       "Public Aircraft - Local      0.363636\n",
       "Public Aircraft - State      0.100000\n",
       "Skydiving                    0.451220\n",
       "Unknown                      0.644399\n",
       "Name: Total.Fatal.Injuries, dtype: float64"
      ]
     },
     "execution_count": 21,
     "metadata": {},
     "output_type": "execute_result"
    }
   ],
   "source": [
    "\n",
    "mean_Total_Fatal_Injuries_df =df.groupby('Purpose.of.flight')['Total.Fatal.Injuries'].mean()\n",
    "mean_Total_Fatal_Injuries_df"
   ]
  },
  {
   "cell_type": "markdown",
   "metadata": {},
   "source": [
    "Engines"
   ]
  },
  {
   "cell_type": "code",
   "execution_count": 22,
   "metadata": {},
   "outputs": [
    {
     "data": {
      "text/plain": [
       "Text(0, 0.5, 'Total Number of accidents')"
      ]
     },
     "execution_count": 22,
     "metadata": {},
     "output_type": "execute_result"
    },
    {
     "data": {
      "image/png": "[encoded data removed]",
      "text/plain": [
       "<Figure size 1008x720 with 1 Axes>"
      ]
     },
     "metadata": {
      "needs_background": "light"
     },
     "output_type": "display_data"
    }
   ],
   "source": [
    "plt.figure(figsize=(14, 10))\n",
    "\n",
    "# Engines\n",
    "plt.subplot(2, 3, 1)\n",
    "plt.bar(df['Number.of.Engines'].value_counts().index[0:5], df['Number.of.Engines'].value_counts().values[0:5], color='blue')\n",
    "plt.title('Number of Engines')\n",
    "plt.xlabel('Engines per aircraft')\n",
    "plt.ylabel('Total Number of accidents')"
   ]
  },
  {
   "cell_type": "markdown",
   "metadata": {},
   "source": [
    "Fatalities\n",
    "\n"
   ]
  },
  {
   "cell_type": "code",
   "execution_count": 23,
   "metadata": {},
   "outputs": [
    {
     "data": {
      "text/plain": [
       "Text(0, 0.5, 'Total Fatalities')"
      ]
     },
     "execution_count": 23,
     "metadata": {},
     "output_type": "execute_result"
    },
    {
     "data": {
      "image/png": "[encoded data removed]",
      "text/plain": [
       "<Figure size 432x288 with 1 Axes>"
      ]
     },
     "metadata": {
      "needs_background": "light"
     },
     "output_type": "display_data"
    }
   ],
   "source": [
    "\n",
    "plt.subplot(2, 3, 2)\n",
    "plt.bar(df['Total.Fatal.Injuries'].value_counts().index[0:5], df['Total.Fatal.Injuries'].value_counts().values[0:5], color='red')\n",
    "plt.title('Number of Fatalities')\n",
    "plt.xlabel('Fatalities per accident')\n",
    "plt.ylabel('Total Fatalities')\n"
   ]
  },
  {
   "cell_type": "markdown",
   "metadata": {},
   "source": [
    "Seriousness of Injuries"
   ]
  },
  {
   "cell_type": "code",
   "execution_count": 24,
   "metadata": {},
   "outputs": [
    {
     "data": {
      "text/plain": [
       "Text(0, 0.5, 'Total Serious Injuries')"
      ]
     },
     "execution_count": 24,
     "metadata": {},
     "output_type": "execute_result"
    },
    {
     "data": {
      "image/png": "[encoded data removed]",
      "text/plain": [
       "<Figure size 432x288 with 1 Axes>"
      ]
     },
     "metadata": {
      "needs_background": "light"
     },
     "output_type": "display_data"
    }
   ],
   "source": [
    "plt.subplot(2, 3, 3)\n",
    "plt.bar(df['Total.Serious.Injuries'].value_counts().index[0:5], df['Total.Serious.Injuries'].value_counts().values[0:5], color='green')\n",
    "plt.title('Number of Serious Injuries')\n",
    "plt.xlabel('Serious Injuries per accident')\n",
    "plt.ylabel('Total Serious Injuries')"
   ]
  },
  {
   "cell_type": "markdown",
   "metadata": {},
   "source": [
    "Minor Injuries"
   ]
  },
  {
   "cell_type": "code",
   "execution_count": 25,
   "metadata": {},
   "outputs": [
    {
     "data": {
      "text/plain": [
       "Text(0, 0.5, 'Total Minor Injuries')"
      ]
     },
     "execution_count": 25,
     "metadata": {},
     "output_type": "execute_result"
    },
    {
     "data": {
      "image/png": "[encoded data removed]",
      "text/plain": [
       "<Figure size 432x288 with 1 Axes>"
      ]
     },
     "metadata": {
      "needs_background": "light"
     },
     "output_type": "display_data"
    }
   ],
   "source": [
    "plt.subplot(2, 3, 4)\n",
    "plt.bar(df['Total.Minor.Injuries'].value_counts().index[0:5], df['Total.Minor.Injuries'].value_counts().values[0:5], color='black')\n",
    "plt.title('Number of Minor Injuries')\n",
    "plt.xlabel('Minor Injuries per accident')\n",
    "plt.ylabel('Total Minor Injuries')"
   ]
  },
  {
   "cell_type": "markdown",
   "metadata": {},
   "source": [
    "Uninjured"
   ]
  },
  {
   "cell_type": "code",
   "execution_count": 26,
   "metadata": {},
   "outputs": [
    {
     "data": {
      "text/plain": [
       "Text(0, 0.5, 'Total Uninjured')"
      ]
     },
     "execution_count": 26,
     "metadata": {},
     "output_type": "execute_result"
    },
    {
     "data": {
      "image/png": "[encoded data removed]",
      "text/plain": [
       "<Figure size 432x288 with 1 Axes>"
      ]
     },
     "metadata": {
      "needs_background": "light"
     },
     "output_type": "display_data"
    }
   ],
   "source": [
    "plt.subplot(2, 3, 5)\n",
    "plt.bar(df['Total.Uninjured'].value_counts().index[0:5], df['Total.Uninjured'].value_counts().values[0:5], color='orange')\n",
    "plt.title('Number of Uninjured')\n",
    "plt.xlabel('Uninjured per accident')\n",
    "plt.ylabel('Total Uninjured')"
   ]
  },
  {
   "cell_type": "markdown",
   "metadata": {},
   "source": [
    "Looping thru index to standardize names for 'Make'"
   ]
  },
  {
   "cell_type": "code",
   "execution_count": 27,
   "metadata": {},
   "outputs": [],
   "source": [
    "for item in df['Make'].value_counts().index:\n",
    "    df['Make'] = df['Make'].apply(lambda x: item if item in x else x)"
   ]
  },
  {
   "cell_type": "code",
   "execution_count": 28,
   "metadata": {},
   "outputs": [
    {
     "data": {
      "application/vnd.microsoft.datawrangler.viewer.v0+json": {
       "columns": [
        {
         "name": "index",
         "rawType": "int64",
         "type": "integer"
        },
        {
         "name": "Make",
         "rawType": "object",
         "type": "string"
        }
       ],
       "ref": "bf4441e1-f556-45db-81d2-133be89fb837",
       "rows": [
        [
         "7",
         "Cessna"
        ],
        [
         "8",
         "Cessna"
        ],
        [
         "12",
         "Bellanca"
        ],
        [
         "13",
         "Cessna"
        ],
        [
         "14",
         "Na"
        ],
        [
         "15",
         "Beech"
        ],
        [
         "17",
         "Cessna"
        ],
        [
         "18",
         "Cessna"
        ],
        [
         "20",
         "Cessna"
        ],
        [
         "21",
         "Cessna"
        ],
        [
         "23",
         "Piper"
        ],
        [
         "24",
         "Grumman"
        ],
        [
         "25",
         "Cessna"
        ],
        [
         "26",
         "Beech"
        ],
        [
         "27",
         "Maule"
        ],
        [
         "28",
         "Cessna"
        ],
        [
         "29",
         "Bellanca"
        ],
        [
         "30",
         "Cessna"
        ],
        [
         "31",
         "Air Tractor"
        ],
        [
         "32",
         "Piper"
        ],
        [
         "33",
         "Piper"
        ],
        [
         "34",
         "Cessna"
        ],
        [
         "35",
         "Piper"
        ],
        [
         "36",
         "Cessna"
        ],
        [
         "37",
         "Na"
        ],
        [
         "38",
         "Piper"
        ],
        [
         "39",
         "Piper"
        ],
        [
         "40",
         "Rockwell"
        ],
        [
         "41",
         "Piper"
        ],
        [
         "42",
         "Piper"
        ],
        [
         "43",
         "Cessna"
        ],
        [
         "44",
         "Cessna"
        ],
        [
         "45",
         "Cessna"
        ],
        [
         "47",
         "Beech"
        ],
        [
         "48",
         "Cessna"
        ],
        [
         "49",
         "Mooney"
        ],
        [
         "50",
         "Boeing"
        ],
        [
         "51",
         "Cessna"
        ],
        [
         "52",
         "Beech"
        ],
        [
         "53",
         "Curtis"
        ],
        [
         "54",
         "Cessna"
        ],
        [
         "55",
         "Piper"
        ],
        [
         "56",
         "Cessna"
        ],
        [
         "58",
         "Piper"
        ],
        [
         "60",
         "Cessna"
        ],
        [
         "63",
         "Cessna"
        ],
        [
         "64",
         "Cessna"
        ],
        [
         "65",
         "Piper"
        ],
        [
         "66",
         "Cessna"
        ],
        [
         "67",
         "Cessna"
        ]
       ],
       "shape": {
        "columns": 1,
        "rows": 15068
       }
      },
      "text/plain": [
       "7                          Cessna\n",
       "8                          Cessna\n",
       "12                       Bellanca\n",
       "13                         Cessna\n",
       "14                             Na\n",
       "                   ...           \n",
       "90307               ORLICAN S R O\n",
       "90317                       PIPER\n",
       "90318    ARADO-FLUGZEUGWERKE GMBH\n",
       "90332                      CIRRUS\n",
       "90336                      CESSNA\n",
       "Name: Make, Length: 15068, dtype: object"
      ]
     },
     "execution_count": 28,
     "metadata": {},
     "output_type": "execute_result"
    }
   ],
   "source": [
    "df['Make']"
   ]
  },
  {
   "cell_type": "markdown",
   "metadata": {},
   "source": [
    "Determining the type of business that would have the most/least risk of fatalities."
   ]
  },
  {
   "cell_type": "code",
   "execution_count": 29,
   "metadata": {},
   "outputs": [
    {
     "data": {
      "application/vnd.microsoft.datawrangler.viewer.v0+json": {
       "columns": [
        {
         "name": "Purpose.of.flight",
         "rawType": "object",
         "type": "string"
        },
        {
         "name": "Total.Fatal.Injuries",
         "rawType": "float64",
         "type": "float"
        }
       ],
       "ref": "6c0ac8a1-0fa2-4e22-b192-4f590ed38ff8",
       "rows": [
        [
         "ASHO",
         "2.3333333333333335"
        ],
        [
         "Aerial Application",
         "0.1673076923076923"
        ],
        [
         "Aerial Observation",
         "0.5193798449612403"
        ],
        [
         "Air Drop",
         "0.0"
        ],
        [
         "Air Race show",
         "0.43103448275862066"
        ],
        [
         "Banner Tow",
         "0.19696969696969696"
        ],
        [
         "Business",
         "0.48753894080996885"
        ],
        [
         "Executive/corporate",
         "0.5967741935483871"
        ],
        [
         "Ferry",
         "0.2206896551724138"
        ],
        [
         "Firefighting",
         "0.6153846153846154"
        ],
        [
         "Flight Test",
         "0.27419354838709675"
        ],
        [
         "Glider Tow",
         "0.3"
        ],
        [
         "Instructional",
         "0.25443786982248523"
        ],
        [
         "Other Work Use",
         "0.5080645161290323"
        ],
        [
         "PUBS",
         "0.0"
        ],
        [
         "Personal",
         "0.4483479715600167"
        ],
        [
         "Positioning",
         "0.30943396226415093"
        ],
        [
         "Public Aircraft",
         "0.4444444444444444"
        ],
        [
         "Public Aircraft - Federal",
         "0.23404255319148937"
        ],
        [
         "Public Aircraft - Local",
         "0.36363636363636365"
        ],
        [
         "Public Aircraft - State",
         "0.1"
        ],
        [
         "Skydiving",
         "0.45121951219512196"
        ],
        [
         "Unknown",
         "0.6443994601889339"
        ]
       ],
       "shape": {
        "columns": 1,
        "rows": 23
       }
      },
      "text/plain": [
       "Purpose.of.flight\n",
       "ASHO                         2.333333\n",
       "Aerial Application           0.167308\n",
       "Aerial Observation           0.519380\n",
       "Air Drop                     0.000000\n",
       "Air Race show                0.431034\n",
       "Banner Tow                   0.196970\n",
       "Business                     0.487539\n",
       "Executive/corporate          0.596774\n",
       "Ferry                        0.220690\n",
       "Firefighting                 0.615385\n",
       "Flight Test                  0.274194\n",
       "Glider Tow                   0.300000\n",
       "Instructional                0.254438\n",
       "Other Work Use               0.508065\n",
       "PUBS                         0.000000\n",
       "Personal                     0.448348\n",
       "Positioning                  0.309434\n",
       "Public Aircraft              0.444444\n",
       "Public Aircraft - Federal    0.234043\n",
       "Public Aircraft - Local      0.363636\n",
       "Public Aircraft - State      0.100000\n",
       "Skydiving                    0.451220\n",
       "Unknown                      0.644399\n",
       "Name: Total.Fatal.Injuries, dtype: float64"
      ]
     },
     "execution_count": 29,
     "metadata": {},
     "output_type": "execute_result"
    }
   ],
   "source": [
    "\n",
    "mean_fatal_df = df.groupby('Purpose.of.flight')['Total.Fatal.Injuries'].mean()\n",
    "mean_fatal_df"
   ]
  },
  {
   "cell_type": "markdown",
   "metadata": {},
   "source": [
    "Sorting in Descending order"
   ]
  },
  {
   "cell_type": "code",
   "execution_count": 30,
   "metadata": {},
   "outputs": [],
   "source": [
    "mean_fatal_df = mean_fatal_df.reset_index()\n",
    "\n",
    "mean_fatal_df.columns = ['Purpose.of.flight', 'Mean Fatal']"
   ]
  },
  {
   "cell_type": "code",
   "execution_count": 31,
   "metadata": {},
   "outputs": [
    {
     "data": {
      "application/vnd.microsoft.datawrangler.viewer.v0+json": {
       "columns": [
        {
         "name": "index",
         "rawType": "int64",
         "type": "integer"
        },
        {
         "name": "Purpose.of.flight",
         "rawType": "object",
         "type": "string"
        },
        {
         "name": "Mean Fatal",
         "rawType": "float64",
         "type": "float"
        }
       ],
       "ref": "c28123c0-f180-47e7-accd-93748222a837",
       "rows": [
        [
         "0",
         "ASHO",
         "2.3333333333333335"
        ],
        [
         "1",
         "Unknown",
         "0.6443994601889339"
        ],
        [
         "2",
         "Firefighting",
         "0.6153846153846154"
        ],
        [
         "3",
         "Executive/corporate",
         "0.5967741935483871"
        ],
        [
         "4",
         "Aerial Observation",
         "0.5193798449612403"
        ]
       ],
       "shape": {
        "columns": 2,
        "rows": 5
       }
      },
      "text/html": [
       "<div>\n",
       "<style scoped>\n",
       "    .dataframe tbody tr th:only-of-type {\n",
       "        vertical-align: middle;\n",
       "    }\n",
       "\n",
       "    .dataframe tbody tr th {\n",
       "        vertical-align: top;\n",
       "    }\n",
       "\n",
       "    .dataframe thead th {\n",
       "        text-align: right;\n",
       "    }\n",
       "</style>\n",
       "<table border=\"1\" class=\"dataframe\">\n",
       "  <thead>\n",
       "    <tr style=\"text-align: right;\">\n",
       "      <th></th>\n",
       "      <th>Purpose.of.flight</th>\n",
       "      <th>Mean Fatal</th>\n",
       "    </tr>\n",
       "  </thead>\n",
       "  <tbody>\n",
       "    <tr>\n",
       "      <th>0</th>\n",
       "      <td>ASHO</td>\n",
       "      <td>2.333333</td>\n",
       "    </tr>\n",
       "    <tr>\n",
       "      <th>1</th>\n",
       "      <td>Unknown</td>\n",
       "      <td>0.644399</td>\n",
       "    </tr>\n",
       "    <tr>\n",
       "      <th>2</th>\n",
       "      <td>Firefighting</td>\n",
       "      <td>0.615385</td>\n",
       "    </tr>\n",
       "    <tr>\n",
       "      <th>3</th>\n",
       "      <td>Executive/corporate</td>\n",
       "      <td>0.596774</td>\n",
       "    </tr>\n",
       "    <tr>\n",
       "      <th>4</th>\n",
       "      <td>Aerial Observation</td>\n",
       "      <td>0.519380</td>\n",
       "    </tr>\n",
       "  </tbody>\n",
       "</table>\n",
       "</div>"
      ],
      "text/plain": [
       "     Purpose.of.flight  Mean Fatal\n",
       "0                 ASHO    2.333333\n",
       "1              Unknown    0.644399\n",
       "2         Firefighting    0.615385\n",
       "3  Executive/corporate    0.596774\n",
       "4   Aerial Observation    0.519380"
      ]
     },
     "execution_count": 31,
     "metadata": {},
     "output_type": "execute_result"
    }
   ],
   "source": [
    "mean_fatal_df = mean_fatal_df.sort_values(by='Mean Fatal', ascending=False).reset_index(drop=True)\n",
    "\n",
    "mean_fatal_df.head()"
   ]
  },
  {
   "cell_type": "code",
   "execution_count": 32,
   "metadata": {},
   "outputs": [
    {
     "data": {
      "application/vnd.microsoft.datawrangler.viewer.v0+json": {
       "columns": [
        {
         "name": "index",
         "rawType": "int64",
         "type": "integer"
        },
        {
         "name": "Purpose.of.flight",
         "rawType": "object",
         "type": "string"
        },
        {
         "name": "Mean Fatal",
         "rawType": "float64",
         "type": "float"
        }
       ],
       "ref": "2c33d1f0-a188-4679-92b5-f09b35a625f4",
       "rows": [
        [
         "13",
         "Glider Tow",
         "0.3"
        ],
        [
         "14",
         "Flight Test",
         "0.27419354838709675"
        ],
        [
         "15",
         "Instructional",
         "0.25443786982248523"
        ],
        [
         "16",
         "Public Aircraft - Federal",
         "0.23404255319148937"
        ],
        [
         "17",
         "Ferry",
         "0.2206896551724138"
        ],
        [
         "18",
         "Banner Tow",
         "0.19696969696969696"
        ],
        [
         "19",
         "Aerial Application",
         "0.1673076923076923"
        ],
        [
         "20",
         "Public Aircraft - State",
         "0.1"
        ],
        [
         "21",
         "PUBS",
         "0.0"
        ],
        [
         "22",
         "Air Drop",
         "0.0"
        ]
       ],
       "shape": {
        "columns": 2,
        "rows": 10
       }
      },
      "text/html": [
       "<div>\n",
       "<style scoped>\n",
       "    .dataframe tbody tr th:only-of-type {\n",
       "        vertical-align: middle;\n",
       "    }\n",
       "\n",
       "    .dataframe tbody tr th {\n",
       "        vertical-align: top;\n",
       "    }\n",
       "\n",
       "    .dataframe thead th {\n",
       "        text-align: right;\n",
       "    }\n",
       "</style>\n",
       "<table border=\"1\" class=\"dataframe\">\n",
       "  <thead>\n",
       "    <tr style=\"text-align: right;\">\n",
       "      <th></th>\n",
       "      <th>Purpose.of.flight</th>\n",
       "      <th>Mean Fatal</th>\n",
       "    </tr>\n",
       "  </thead>\n",
       "  <tbody>\n",
       "    <tr>\n",
       "      <th>13</th>\n",
       "      <td>Glider Tow</td>\n",
       "      <td>0.300000</td>\n",
       "    </tr>\n",
       "    <tr>\n",
       "      <th>14</th>\n",
       "      <td>Flight Test</td>\n",
       "      <td>0.274194</td>\n",
       "    </tr>\n",
       "    <tr>\n",
       "      <th>15</th>\n",
       "      <td>Instructional</td>\n",
       "      <td>0.254438</td>\n",
       "    </tr>\n",
       "    <tr>\n",
       "      <th>16</th>\n",
       "      <td>Public Aircraft - Federal</td>\n",
       "      <td>0.234043</td>\n",
       "    </tr>\n",
       "    <tr>\n",
       "      <th>17</th>\n",
       "      <td>Ferry</td>\n",
       "      <td>0.220690</td>\n",
       "    </tr>\n",
       "    <tr>\n",
       "      <th>18</th>\n",
       "      <td>Banner Tow</td>\n",
       "      <td>0.196970</td>\n",
       "    </tr>\n",
       "    <tr>\n",
       "      <th>19</th>\n",
       "      <td>Aerial Application</td>\n",
       "      <td>0.167308</td>\n",
       "    </tr>\n",
       "    <tr>\n",
       "      <th>20</th>\n",
       "      <td>Public Aircraft - State</td>\n",
       "      <td>0.100000</td>\n",
       "    </tr>\n",
       "    <tr>\n",
       "      <th>21</th>\n",
       "      <td>PUBS</td>\n",
       "      <td>0.000000</td>\n",
       "    </tr>\n",
       "    <tr>\n",
       "      <th>22</th>\n",
       "      <td>Air Drop</td>\n",
       "      <td>0.000000</td>\n",
       "    </tr>\n",
       "  </tbody>\n",
       "</table>\n",
       "</div>"
      ],
      "text/plain": [
       "            Purpose.of.flight  Mean Fatal\n",
       "13                 Glider Tow    0.300000\n",
       "14                Flight Test    0.274194\n",
       "15              Instructional    0.254438\n",
       "16  Public Aircraft - Federal    0.234043\n",
       "17                      Ferry    0.220690\n",
       "18                 Banner Tow    0.196970\n",
       "19         Aerial Application    0.167308\n",
       "20    Public Aircraft - State    0.100000\n",
       "21                       PUBS    0.000000\n",
       "22                   Air Drop    0.000000"
      ]
     },
     "execution_count": 32,
     "metadata": {},
     "output_type": "execute_result"
    }
   ],
   "source": [
    "mean_fatal_df.tail(10)"
   ]
  },
  {
   "cell_type": "markdown",
   "metadata": {},
   "source": [
    "Droping purpose values that are not business related and plotting results"
   ]
  },
  {
   "cell_type": "code",
   "execution_count": 33,
   "metadata": {},
   "outputs": [],
   "source": [
    "purposes_to_drop = ['Public Aircraft', 'External Load', 'PUBS', 'Air Drop', 'Public Aircraft - State', \n",
    "                    'Public Aircraft - Federal', 'Positioning', 'Air Race/show', 'Flight Test',  \n",
    "                    'Public Aircraft - Local', 'Air Race show/Air Race/show', 'ASHO', 'Unknown']"
   ]
  },
  {
   "cell_type": "markdown",
   "metadata": {},
   "source": [
    "Droping the purposes"
   ]
  },
  {
   "cell_type": "code",
   "execution_count": 34,
   "metadata": {},
   "outputs": [],
   "source": [
    "mean_fatal_df_plot = mean_fatal_df[~mean_fatal_df['Purpose.of.flight'].isin(purposes_to_drop)]"
   ]
  },
  {
   "cell_type": "code",
   "execution_count": 35,
   "metadata": {},
   "outputs": [],
   "source": [
    "#Set the style of the plot\n",
    "sns.set(style=\"darkgrid\")"
   ]
  },
  {
   "cell_type": "code",
   "execution_count": 36,
   "metadata": {},
   "outputs": [
    {
     "data": {
      "image/png": "[encoded data removed]",
      "text/plain": [
       "<Figure size 1008x432 with 1 Axes>"
      ]
     },
     "metadata": {},
     "output_type": "display_data"
    }
   ],
   "source": [
    "#Create a bar plot\n",
    "plt.figure(figsize=(14,6))\n",
    "bar_plot = sns.barplot(x='Purpose.of.flight', y='Mean Fatal', data=mean_fatal_df_plot, palette=\"deep\")\n",
    "\n",
    "bar_plot.set(xlabel='Type of Flight', ylabel='Average Fatalaties')\n",
    "# plt.title('Average Fatalities by Flight Type', fontsize=20)\n",
    "\n",
    "plt.xticks(rotation=45)\n",
    "\n",
    "# Add labels to the top of each bar\n",
    "for i, v in enumerate(mean_fatal_df_plot['Mean Fatal']):\n",
    "    bar_plot.text(i, v, str(v), ha='center', va='bottom', fontsize=10)\n",
    "\n",
    "#Rotate text by 45 degrees\n",
    "plt.xticks(rotation=45)\n",
    "# Show the plot\n",
    "plt.show()\n"
   ]
  },
  {
   "cell_type": "markdown",
   "metadata": {},
   "source": [
    "Grouping dataframe and calculating Accident Severity mean"
   ]
  },
  {
   "cell_type": "code",
   "execution_count": 37,
   "metadata": {},
   "outputs": [
    {
     "data": {
      "application/vnd.microsoft.datawrangler.viewer.v0+json": {
       "columns": [
        {
         "name": "index",
         "rawType": "object",
         "type": "string"
        },
        {
         "name": "Purpose.of.flight",
         "rawType": "int64",
         "type": "integer"
        }
       ],
       "ref": "9c935f89-27ab-42f9-921e-c1c7996637a9",
       "rows": [
        [
         "Personal",
         "9564"
        ],
        [
         "Instructional",
         "1521"
        ],
        [
         "Unknown",
         "1482"
        ],
        [
         "Business",
         "642"
        ],
        [
         "Aerial Application",
         "520"
        ],
        [
         "Positioning",
         "265"
        ],
        [
         "Flight Test",
         "186"
        ],
        [
         "Ferry",
         "145"
        ],
        [
         "Aerial Observation",
         "129"
        ],
        [
         "Executive/corporate",
         "124"
        ],
        [
         "Other Work Use",
         "124"
        ],
        [
         "Skydiving",
         "82"
        ],
        [
         "Banner Tow",
         "66"
        ],
        [
         "Air Race show",
         "58"
        ],
        [
         "Public Aircraft - Federal",
         "47"
        ],
        [
         "Glider Tow",
         "30"
        ],
        [
         "Public Aircraft",
         "27"
        ],
        [
         "Public Aircraft - State",
         "20"
        ],
        [
         "Firefighting",
         "13"
        ],
        [
         "Public Aircraft - Local",
         "11"
        ],
        [
         "ASHO",
         "6"
        ],
        [
         "PUBS",
         "3"
        ],
        [
         "Air Drop",
         "3"
        ]
       ],
       "shape": {
        "columns": 1,
        "rows": 23
       }
      },
      "text/plain": [
       "Personal                     9564\n",
       "Instructional                1521\n",
       "Unknown                      1482\n",
       "Business                      642\n",
       "Aerial Application            520\n",
       "Positioning                   265\n",
       "Flight Test                   186\n",
       "Ferry                         145\n",
       "Aerial Observation            129\n",
       "Executive/corporate           124\n",
       "Other Work Use                124\n",
       "Skydiving                      82\n",
       "Banner Tow                     66\n",
       "Air Race show                  58\n",
       "Public Aircraft - Federal      47\n",
       "Glider Tow                     30\n",
       "Public Aircraft                27\n",
       "Public Aircraft - State        20\n",
       "Firefighting                   13\n",
       "Public Aircraft - Local        11\n",
       "ASHO                            6\n",
       "PUBS                            3\n",
       "Air Drop                        3\n",
       "Name: Purpose.of.flight, dtype: int64"
      ]
     },
     "execution_count": 37,
     "metadata": {},
     "output_type": "execute_result"
    }
   ],
   "source": [
    "severity_rating_df= df['Purpose.of.flight'].value_counts()\n",
    "severity_rating_df"
   ]
  }
 ],
 "metadata": {
  "kernelspec": {
   "display_name": "learn-env",
   "language": "python",
   "name": "python3"
  },
  "language_info": {
   "codemirror_mode": {
    "name": "ipython",
    "version": 3
   },
   "file_extension": ".py",
   "mimetype": "text/x-python",
   "name": "python",
   "nbconvert_exporter": "python",
   "pygments_lexer": "ipython3",
   "version": "3.8.5"
  }
 },
 "nbformat": 4,
 "nbformat_minor": 4
}
